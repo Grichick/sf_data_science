{
 "cells": [
  {
   "cell_type": "markdown",
   "id": "de678181",
   "metadata": {},
   "source": [
    "***1.Импортируем необходимые библиотеки***"
   ]
  },
  {
   "cell_type": "code",
   "execution_count": 1,
   "id": "81a20841",
   "metadata": {
    "_cell_guid": "b1076dfc-b9ad-4769-8c92-a6c4dae69d19",
    "_uuid": "8f2839f25d086af736a60e9eeb907d3b93b6e0e5",
    "execution": {
     "iopub.execute_input": "2022-02-08T19:14:22.339329Z",
     "iopub.status.busy": "2022-02-08T19:14:22.338238Z",
     "iopub.status.idle": "2022-02-08T19:14:23.673423Z",
     "shell.execute_reply": "2022-02-08T19:14:23.673936Z",
     "shell.execute_reply.started": "2022-02-08T18:44:26.624161Z"
    },
    "papermill": {
     "duration": 1.363434,
     "end_time": "2022-02-08T19:14:23.674225",
     "exception": false,
     "start_time": "2022-02-08T19:14:22.310791",
     "status": "completed"
    },
    "tags": []
   },
   "outputs": [],
   "source": [
    "# This Python 3 environment comes with many helpful analytics libraries installed\n",
    "# It is defined by the kaggle/python Docker image: https://github.com/kaggle/docker-python\n",
    "# For example, here's several helpful packages to load\n",
    "\n",
    "import numpy as np # linear algebra\n",
    "import pandas as pd # data processing, CSV file I/O (e.g. pd.read_csv)\n",
    "\n",
    "# импортируем библиотеки для визуализации\n",
    "import matplotlib.pyplot as plt\n",
    "import seaborn as sns \n",
    "%matplotlib inline\n",
    "\n",
    "# Загружаем специальный удобный инструмент для разделения датасета:\n",
    "from sklearn.model_selection import train_test_split\n",
    "\n",
    "# Input data files are available in the read-only \"../input/\" directory\n",
    "# For example, running this (by clicking run or pressing Shift+Enter) will list all files under the input directory\n",
    "\n",
    "import os\n",
    "for dirname, _, filenames in os.walk('/kaggle/input'):\n",
    "    for filename in filenames:\n",
    "        print(os.path.join(dirname, filename))\n",
    "        \n",
    "import category_encoders as ce #для кодирования признаков\n",
    "from collections import Counter\n",
    "from sklearn.preprocessing import OrdinalEncoder, LabelEncoder, OneHotEncoder\n",
    "# You can write up to 20GB to the current directory (/kaggle/working/) that gets preserved as output when you create a version using \"Save & Run All\" \n",
    "# You can also write temporary files to /kaggle/temp/, but they won't be saved outside of the current session"
   ]
  },
  {
   "cell_type": "code",
   "execution_count": 2,
   "id": "8bd9892a",
   "metadata": {
    "execution": {
     "iopub.execute_input": "2022-02-08T19:14:23.722495Z",
     "iopub.status.busy": "2022-02-08T19:14:23.721381Z",
     "iopub.status.idle": "2022-02-08T19:14:23.725121Z",
     "shell.execute_reply": "2022-02-08T19:14:23.725576Z",
     "shell.execute_reply.started": "2022-02-08T18:44:26.641433Z"
    },
    "papermill": {
     "duration": 0.028937,
     "end_time": "2022-02-08T19:14:23.725766",
     "exception": false,
     "start_time": "2022-02-08T19:14:23.696829",
     "status": "completed"
    },
    "tags": []
   },
   "outputs": [],
   "source": [
    "# всегда фиксируйте RANDOM_SEED, чтобы ваши эксперименты были воспроизводимы!\n",
    "RANDOM_SEED = 42"
   ]
  },
  {
   "cell_type": "code",
   "execution_count": 3,
   "id": "814dbb0b",
   "metadata": {
    "execution": {
     "iopub.execute_input": "2022-02-08T19:14:23.771180Z",
     "iopub.status.busy": "2022-02-08T19:14:23.770572Z",
     "iopub.status.idle": "2022-02-08T19:14:28.207550Z",
     "shell.execute_reply": "2022-02-08T19:14:28.206673Z",
     "shell.execute_reply.started": "2022-02-08T18:44:26.648843Z"
    },
    "papermill": {
     "duration": 4.460662,
     "end_time": "2022-02-08T19:14:28.207868",
     "exception": false,
     "start_time": "2022-02-08T19:14:23.747206",
     "status": "completed"
    },
    "tags": []
   },
   "outputs": [],
   "source": [
    "# зафиксируем версию пакетов, чтобы эксперименты были воспроизводимы:\n",
    "!pip freeze > requirements.txt"
   ]
  },
  {
   "cell_type": "code",
   "execution_count": 4,
   "id": "2586b1ef",
   "metadata": {
    "execution": {
     "iopub.execute_input": "2022-02-08T19:14:28.262028Z",
     "iopub.status.busy": "2022-02-08T19:14:28.261082Z",
     "iopub.status.idle": "2022-02-08T19:14:33.762274Z",
     "shell.execute_reply": "2022-02-08T19:14:33.761547Z",
     "shell.execute_reply.started": "2022-02-08T18:44:29.657645Z"
    },
    "papermill": {
     "duration": 5.530208,
     "end_time": "2022-02-08T19:14:33.762433",
     "exception": false,
     "start_time": "2022-02-08T19:14:28.232225",
     "status": "completed"
    },
    "tags": []
   },
   "outputs": [],
   "source": [
    "# Подгрузим наши данные из соревнования\n",
    "\n",
    "#DATA_DIR = '/kaggle/input/sf-booking/'\n",
    "#df_train = pd.read_csv(DATA_DIR+'/hotels_train.csv') # датасет для обучения\n",
    "#df_test = pd.read_csv(DATA_DIR+'hotels_test.csv') # датасет для предсказания\n",
    "#sample_submission = pd.read_csv(DATA_DIR+'/submission.csv') # самбмишн\n",
    "\n",
    "df_train = pd.read_csv('data/hotels_train.csv') #датасет для обучения\n",
    "df_test = pd.read_csv('data/hotels_test.csv')\n",
    "sample_submission = pd.read_csv('data/submission.csv')"
   ]
  },
  {
   "cell_type": "code",
   "execution_count": 5,
   "id": "5aadcce6",
   "metadata": {
    "execution": {
     "iopub.execute_input": "2022-02-08T19:14:33.814184Z",
     "iopub.status.busy": "2022-02-08T19:14:33.813500Z",
     "iopub.status.idle": "2022-02-08T19:14:33.985724Z",
     "shell.execute_reply": "2022-02-08T19:14:33.986240Z",
     "shell.execute_reply.started": "2022-02-08T18:44:32.949435Z"
    },
    "papermill": {
     "duration": 0.201246,
     "end_time": "2022-02-08T19:14:33.986418",
     "exception": false,
     "start_time": "2022-02-08T19:14:33.785172",
     "status": "completed"
    },
    "tags": []
   },
   "outputs": [
    {
     "name": "stdout",
     "output_type": "stream",
     "text": [
      "<class 'pandas.core.frame.DataFrame'>\n",
      "RangeIndex: 386803 entries, 0 to 386802\n",
      "Data columns (total 17 columns):\n",
      " #   Column                                      Non-Null Count   Dtype  \n",
      "---  ------                                      --------------   -----  \n",
      " 0   hotel_address                               386803 non-null  object \n",
      " 1   additional_number_of_scoring                386803 non-null  int64  \n",
      " 2   review_date                                 386803 non-null  object \n",
      " 3   average_score                               386803 non-null  float64\n",
      " 4   hotel_name                                  386803 non-null  object \n",
      " 5   reviewer_nationality                        386803 non-null  object \n",
      " 6   negative_review                             386803 non-null  object \n",
      " 7   review_total_negative_word_counts           386803 non-null  int64  \n",
      " 8   total_number_of_reviews                     386803 non-null  int64  \n",
      " 9   positive_review                             386803 non-null  object \n",
      " 10  review_total_positive_word_counts           386803 non-null  int64  \n",
      " 11  total_number_of_reviews_reviewer_has_given  386803 non-null  int64  \n",
      " 12  reviewer_score                              386803 non-null  float64\n",
      " 13  tags                                        386803 non-null  object \n",
      " 14  days_since_review                           386803 non-null  object \n",
      " 15  lat                                         384355 non-null  float64\n",
      " 16  lng                                         384355 non-null  float64\n",
      "dtypes: float64(4), int64(5), object(8)\n",
      "memory usage: 50.2+ MB\n"
     ]
    }
   ],
   "source": [
    "df_train.info()"
   ]
  },
  {
   "cell_type": "code",
   "execution_count": 6,
   "id": "f2a61b14",
   "metadata": {
    "execution": {
     "iopub.execute_input": "2022-02-08T19:14:34.129923Z",
     "iopub.status.busy": "2022-02-08T19:14:34.129023Z",
     "iopub.status.idle": "2022-02-08T19:14:34.201112Z",
     "shell.execute_reply": "2022-02-08T19:14:34.201672Z",
     "shell.execute_reply.started": "2022-02-08T18:44:33.315329Z"
    },
    "papermill": {
     "duration": 0.104528,
     "end_time": "2022-02-08T19:14:34.201919",
     "exception": false,
     "start_time": "2022-02-08T19:14:34.097391",
     "status": "completed"
    },
    "tags": []
   },
   "outputs": [
    {
     "name": "stdout",
     "output_type": "stream",
     "text": [
      "<class 'pandas.core.frame.DataFrame'>\n",
      "RangeIndex: 128935 entries, 0 to 128934\n",
      "Data columns (total 16 columns):\n",
      " #   Column                                      Non-Null Count   Dtype  \n",
      "---  ------                                      --------------   -----  \n",
      " 0   hotel_address                               128935 non-null  object \n",
      " 1   additional_number_of_scoring                128935 non-null  int64  \n",
      " 2   review_date                                 128935 non-null  object \n",
      " 3   average_score                               128935 non-null  float64\n",
      " 4   hotel_name                                  128935 non-null  object \n",
      " 5   reviewer_nationality                        128935 non-null  object \n",
      " 6   negative_review                             128935 non-null  object \n",
      " 7   review_total_negative_word_counts           128935 non-null  int64  \n",
      " 8   total_number_of_reviews                     128935 non-null  int64  \n",
      " 9   positive_review                             128935 non-null  object \n",
      " 10  review_total_positive_word_counts           128935 non-null  int64  \n",
      " 11  total_number_of_reviews_reviewer_has_given  128935 non-null  int64  \n",
      " 12  tags                                        128935 non-null  object \n",
      " 13  days_since_review                           128935 non-null  object \n",
      " 14  lat                                         128115 non-null  float64\n",
      " 15  lng                                         128115 non-null  float64\n",
      "dtypes: float64(3), int64(5), object(8)\n",
      "memory usage: 15.7+ MB\n"
     ]
    }
   ],
   "source": [
    "df_test.info()"
   ]
  },
  {
   "cell_type": "code",
   "execution_count": 7,
   "id": "f00eb590",
   "metadata": {
    "execution": {
     "iopub.execute_input": "2022-02-08T19:14:34.372564Z",
     "iopub.status.busy": "2022-02-08T19:14:34.371990Z",
     "iopub.status.idle": "2022-02-08T19:14:34.382350Z",
     "shell.execute_reply": "2022-02-08T19:14:34.382803Z",
     "shell.execute_reply.started": "2022-02-08T18:44:33.464464Z"
    },
    "papermill": {
     "duration": 0.036517,
     "end_time": "2022-02-08T19:14:34.382984",
     "exception": false,
     "start_time": "2022-02-08T19:14:34.346467",
     "status": "completed"
    },
    "tags": []
   },
   "outputs": [
    {
     "name": "stdout",
     "output_type": "stream",
     "text": [
      "<class 'pandas.core.frame.DataFrame'>\n",
      "RangeIndex: 128935 entries, 0 to 128934\n",
      "Data columns (total 2 columns):\n",
      " #   Column          Non-Null Count   Dtype\n",
      "---  ------          --------------   -----\n",
      " 0   reviewer_score  128935 non-null  int64\n",
      " 1   id              128935 non-null  int64\n",
      "dtypes: int64(2)\n",
      "memory usage: 2.0 MB\n"
     ]
    }
   ],
   "source": [
    "sample_submission.info()"
   ]
  },
  {
   "cell_type": "code",
   "execution_count": 8,
   "id": "82718822",
   "metadata": {
    "execution": {
     "iopub.execute_input": "2022-02-08T19:14:34.432723Z",
     "iopub.status.busy": "2022-02-08T19:14:34.432113Z",
     "iopub.status.idle": "2022-02-08T19:14:34.920690Z",
     "shell.execute_reply": "2022-02-08T19:14:34.920082Z",
     "shell.execute_reply.started": "2022-02-08T18:44:33.480147Z"
    },
    "papermill": {
     "duration": 0.514636,
     "end_time": "2022-02-08T19:14:34.920844",
     "exception": false,
     "start_time": "2022-02-08T19:14:34.406208",
     "status": "completed"
    },
    "tags": []
   },
   "outputs": [
    {
     "name": "stderr",
     "output_type": "stream",
     "text": [
      "C:\\Users\\Pelte\\AppData\\Local\\Temp\\ipykernel_3836\\447817491.py:6: FutureWarning: The frame.append method is deprecated and will be removed from pandas in a future version. Use pandas.concat instead.\n",
      "  data = df_test.append(df_train, sort=False).reset_index(drop=True) # объединяем\n"
     ]
    }
   ],
   "source": [
    "# ВАЖНО! дря корректной обработки признаков объединяем трейн и тест в один датасет\n",
    "df_train['sample'] = 1 # помечаем где у нас трейн\n",
    "df_test['sample'] = 0 # помечаем где у нас тест\n",
    "df_test['reviewer_score'] = 0 # в тесте у нас нет значения reviewer_score, мы его должны предсказать, по этому пока просто заполняем нулями\n",
    "\n",
    "data = df_test.append(df_train, sort=False).reset_index(drop=True) # объединяем"
   ]
  },
  {
   "cell_type": "markdown",
   "id": "1de389c9",
   "metadata": {},
   "source": [
    "Предварительно ознакомимся с полученными данными."
   ]
  },
  {
   "cell_type": "code",
   "execution_count": 9,
   "id": "9c492391",
   "metadata": {
    "execution": {
     "iopub.execute_input": "2022-02-08T19:14:34.973792Z",
     "iopub.status.busy": "2022-02-08T19:14:34.973193Z",
     "iopub.status.idle": "2022-02-08T19:14:35.186288Z",
     "shell.execute_reply": "2022-02-08T19:14:35.185728Z",
     "shell.execute_reply.started": "2022-02-08T18:44:34.015455Z"
    },
    "papermill": {
     "duration": 0.242101,
     "end_time": "2022-02-08T19:14:35.186448",
     "exception": false,
     "start_time": "2022-02-08T19:14:34.944347",
     "status": "completed"
    },
    "tags": []
   },
   "outputs": [
    {
     "name": "stdout",
     "output_type": "stream",
     "text": [
      "<class 'pandas.core.frame.DataFrame'>\n",
      "RangeIndex: 515738 entries, 0 to 515737\n",
      "Data columns (total 18 columns):\n",
      " #   Column                                      Non-Null Count   Dtype  \n",
      "---  ------                                      --------------   -----  \n",
      " 0   hotel_address                               515738 non-null  object \n",
      " 1   additional_number_of_scoring                515738 non-null  int64  \n",
      " 2   review_date                                 515738 non-null  object \n",
      " 3   average_score                               515738 non-null  float64\n",
      " 4   hotel_name                                  515738 non-null  object \n",
      " 5   reviewer_nationality                        515738 non-null  object \n",
      " 6   negative_review                             515738 non-null  object \n",
      " 7   review_total_negative_word_counts           515738 non-null  int64  \n",
      " 8   total_number_of_reviews                     515738 non-null  int64  \n",
      " 9   positive_review                             515738 non-null  object \n",
      " 10  review_total_positive_word_counts           515738 non-null  int64  \n",
      " 11  total_number_of_reviews_reviewer_has_given  515738 non-null  int64  \n",
      " 12  tags                                        515738 non-null  object \n",
      " 13  days_since_review                           515738 non-null  object \n",
      " 14  lat                                         512470 non-null  float64\n",
      " 15  lng                                         512470 non-null  float64\n",
      " 16  sample                                      515738 non-null  int64  \n",
      " 17  reviewer_score                              515738 non-null  float64\n",
      "dtypes: float64(4), int64(6), object(8)\n",
      "memory usage: 70.8+ MB\n"
     ]
    }
   ],
   "source": [
    "data.info()"
   ]
  },
  {
   "cell_type": "code",
   "execution_count": 10,
   "id": "ac614095",
   "metadata": {
    "execution": {
     "iopub.execute_input": "2022-02-08T19:14:36.237918Z",
     "iopub.status.busy": "2022-02-08T19:14:36.237252Z",
     "iopub.status.idle": "2022-02-08T19:14:37.275035Z",
     "shell.execute_reply": "2022-02-08T19:14:37.275534Z",
     "shell.execute_reply.started": "2022-02-08T18:44:35.438981Z"
    },
    "papermill": {
     "duration": 1.065096,
     "end_time": "2022-02-08T19:14:37.275706",
     "exception": false,
     "start_time": "2022-02-08T19:14:36.210610",
     "status": "completed"
    },
    "tags": []
   },
   "outputs": [
    {
     "data": {
      "text/plain": [
       "<AxesSubplot:>"
      ]
     },
     "execution_count": 10,
     "metadata": {},
     "output_type": "execute_result"
    },
    {
     "data": {
      "image/png": "[encoded data removed]",
      "text/plain": [
       "<Figure size 1080x720 with 2 Axes>"
      ]
     },
     "metadata": {
      "needs_background": "light"
     },
     "output_type": "display_data"
    }
   ],
   "source": [
    "plt.rcParams['figure.figsize'] = (15,10)\n",
    "sns.heatmap(data.drop(['sample'], axis=1).corr(), annot=True)"
   ]
  },
  {
   "cell_type": "markdown",
   "id": "59baec44",
   "metadata": {},
   "source": [
    "Обработает полученный датасет от дубликатов (в кагл работаем с полным набором данных)"
   ]
  },
  {
   "cell_type": "code",
   "execution_count": 11,
   "id": "838cd356",
   "metadata": {},
   "outputs": [
    {
     "name": "stdout",
     "output_type": "stream",
     "text": [
      "Всего записей: 515738\n",
      "Результирующее число записей: 515402\n"
     ]
    }
   ],
   "source": [
    "#Удалим дубликаты\n",
    "print(f'Всего записей: {data.shape[0]}')\n",
    "\n",
    "data_dedupped = data.drop_duplicates()\n",
    "print(f'Результирующее число записей: {data_dedupped.shape[0]}')"
   ]
  },
  {
   "cell_type": "markdown",
   "id": "b6bc1c9a",
   "metadata": {},
   "source": [
    "***2. EDA***\n",
    "\n",
    "Далее перейдем к разведывательному анализу данных :\n",
    "1. Определим числовые и не числовые признаки.\n",
    "2. Обработаем каждый не числовой признак по очереди\n",
    "3. Создадим новые признаки \n",
    "4. Обработаем пропуски\n",
    "5. Очистим от ненужных признаков\n"
   ]
  },
  {
   "cell_type": "markdown",
   "id": "085b0996",
   "metadata": {},
   "source": [
    "Отбор числовых колонок "
   ]
  },
  {
   "cell_type": "code",
   "execution_count": 12,
   "id": "bff1de9b",
   "metadata": {},
   "outputs": [
    {
     "name": "stdout",
     "output_type": "stream",
     "text": [
      "['additional_number_of_scoring' 'average_score'\n",
      " 'review_total_negative_word_counts' 'total_number_of_reviews'\n",
      " 'review_total_positive_word_counts'\n",
      " 'total_number_of_reviews_reviewer_has_given' 'lat' 'lng' 'sample'\n",
      " 'reviewer_score']\n"
     ]
    }
   ],
   "source": [
    "data_numeric = data_dedupped.select_dtypes(include=[np.number])\n",
    "numeric_cols = data_numeric.columns.values\n",
    "print(numeric_cols)"
   ]
  },
  {
   "cell_type": "markdown",
   "id": "31d69ba0",
   "metadata": {},
   "source": [
    "Отбор не числовых колонок"
   ]
  },
  {
   "cell_type": "code",
   "execution_count": 13,
   "id": "d25e1f86",
   "metadata": {},
   "outputs": [
    {
     "name": "stdout",
     "output_type": "stream",
     "text": [
      "['hotel_address' 'review_date' 'hotel_name' 'reviewer_nationality'\n",
      " 'negative_review' 'positive_review' 'tags' 'days_since_review']\n"
     ]
    }
   ],
   "source": [
    "data_non_numeric = data_dedupped.select_dtypes(exclude=[np.number])\n",
    "non_numeric_cols = data_non_numeric.columns.values\n",
    "print(non_numeric_cols)"
   ]
  },
  {
   "cell_type": "markdown",
   "id": "a643a404",
   "metadata": {},
   "source": [
    "В нашем датасете 10 числовых признаков, 8 признаков типа обджект.\n",
    "Для машинного обучения необходимы только числовые значения, поэтому по порядку разберемся с категориальными.Далее будем разбираться с пропусками."
   ]
  },
  {
   "cell_type": "markdown",
   "id": "14cdd6f2",
   "metadata": {},
   "source": [
    "**Обработка категориальных призанков**"
   ]
  },
  {
   "cell_type": "markdown",
   "id": "be259e4b",
   "metadata": {},
   "source": [
    "***2.1. Признак 'hotel_address'***"
   ]
  },
  {
   "cell_type": "code",
   "execution_count": 14,
   "id": "62552366",
   "metadata": {},
   "outputs": [
    {
     "data": {
      "text/plain": [
       "0                   Via Senigallia 6 20161 Milan Italy\n",
       "1    Arlandaweg 10 Westpoort 1043 EW Amsterdam Neth...\n",
       "2          Mallorca 251 Eixample 08008 Barcelona Spain\n",
       "3    Piazza Della Repubblica 17 Central Station 201...\n",
       "4    Singel 303 309 Amsterdam City Center 1012 WJ A...\n",
       "Name: hotel_address, dtype: object"
      ]
     },
     "execution_count": 14,
     "metadata": {},
     "output_type": "execute_result"
    }
   ],
   "source": [
    "data['hotel_address'].head()"
   ]
  },
  {
   "cell_type": "markdown",
   "id": "4161c653",
   "metadata": {},
   "source": [
    "В данном признаке есть много информации, попробуем достать :\n",
    "1. город \n",
    "2. страну \n",
    "3. далее создадим их как отдельные признаки."
   ]
  },
  {
   "cell_type": "code",
   "execution_count": 15,
   "id": "47026ff9",
   "metadata": {},
   "outputs": [
    {
     "data": {
      "text/plain": [
       "United Kingdom    262301\n",
       "Spain              60149\n",
       "France             59928\n",
       "Netherlands        57214\n",
       "Austria            38939\n",
       "Italy              37207\n",
       "Name: country, dtype: int64"
      ]
     },
     "metadata": {},
     "output_type": "display_data"
    },
    {
     "data": {
      "text/plain": [
       "London       262301\n",
       "Barcelona     60149\n",
       "Paris         59928\n",
       "Amsterdam     57214\n",
       "Vienna        38939\n",
       "Milan         37207\n",
       "Name: city, dtype: int64"
      ]
     },
     "metadata": {},
     "output_type": "display_data"
    }
   ],
   "source": [
    "#обрабатываем по сравнению и индексации\n",
    "#Признак city\n",
    "data['city'] = data['hotel_address'].apply(lambda x : 'London' if x.split()[-1] == 'Kingdom' else x.split()[-2])\n",
    "#Признак country\n",
    "data['country'] = data['hotel_address'].apply(lambda x : 'United Kingdom' if x.split()[-1] == 'Kingdom' else x.split()[-1])\n",
    "\n",
    "display(data['country'].value_counts(), data['city'].value_counts())"
   ]
  },
  {
   "cell_type": "markdown",
   "id": "74e3a069",
   "metadata": {},
   "source": [
    "Кодируем признаки и удаляем не нужный(исходный)"
   ]
  },
  {
   "cell_type": "code",
   "execution_count": 16,
   "id": "e8d65b89",
   "metadata": {},
   "outputs": [],
   "source": [
    "encoder = ce.OneHotEncoder(cols=['country'], use_cat_names=True) # указываем столбец для кодирования\n",
    "type_bin = encoder.fit_transform(data['country'])\n",
    "data = pd.concat([data, type_bin], axis=1)\n",
    "\n",
    "encoder = ce.OneHotEncoder(cols=['city'], use_cat_names=True) # указываем столбец для кодирования\n",
    "type_bin = encoder.fit_transform(data['city'])\n",
    "data = pd.concat([data, type_bin], axis=1)\n",
    "\n",
    "data = data.drop(['hotel_address'],axis=1)"
   ]
  },
  {
   "cell_type": "markdown",
   "id": "905ea277",
   "metadata": {},
   "source": [
    "Вывод: из 1 признака получили 2 более значимых, далее их закодировали"
   ]
  },
  {
   "cell_type": "code",
   "execution_count": 17,
   "id": "39466a2b",
   "metadata": {},
   "outputs": [],
   "source": [
    "#data = data.drop(['city'],axis=1) не удалем (пригодится позже)\n",
    "#data = data.drop(['country'],axis=1) "
   ]
  },
  {
   "cell_type": "markdown",
   "id": "78832084",
   "metadata": {},
   "source": [
    "***2.2 Признак 'review_date'***"
   ]
  },
  {
   "cell_type": "code",
   "execution_count": 18,
   "id": "e2375cd9",
   "metadata": {},
   "outputs": [
    {
     "data": {
      "text/plain": [
       "0     7/21/2017\n",
       "1    12/12/2016\n",
       "2    11/26/2015\n",
       "3    10/17/2015\n",
       "4     5/16/2016\n",
       "Name: review_date, dtype: object"
      ]
     },
     "execution_count": 18,
     "metadata": {},
     "output_type": "execute_result"
    }
   ],
   "source": [
    "data['review_date'].head()"
   ]
  },
  {
   "cell_type": "markdown",
   "id": "50157b9f",
   "metadata": {},
   "source": [
    "Для начала преобразуем к формату дейттайм. Далее сегментируем на:\n",
    "1. месяцы\n",
    "2. годы"
   ]
  },
  {
   "cell_type": "code",
   "execution_count": 19,
   "id": "6a0f1267",
   "metadata": {},
   "outputs": [],
   "source": [
    "data['review_date'] = pd.to_datetime(data['review_date'])\n",
    "\n",
    "data['month'] = data['review_date'].dt.month.astype(int)\n",
    "data['year'] = data['review_date'].dt.year.astype(int)\n",
    "#Кодировать не будем , поскольку стали численными признаками"
   ]
  },
  {
   "cell_type": "markdown",
   "id": "29937037",
   "metadata": {},
   "source": [
    "***2.3 Признак 'hotel_name'***"
   ]
  },
  {
   "cell_type": "code",
   "execution_count": 20,
   "id": "e9ce43be",
   "metadata": {},
   "outputs": [],
   "source": [
    "data['hotel_name'].head()\n",
    "data['hotel_name'].nunique()\n",
    "data = data.drop(['hotel_name'],axis=1)"
   ]
  },
  {
   "cell_type": "markdown",
   "id": "8f8740e1",
   "metadata": {},
   "source": [
    "*Не давал попокоя мне этот признак. Нашел TargetEncoder для мультиклассовых целевых признаков. Но реализовать не вышло. Прошу совета , нужно ли это ?*\n",
    "*Поскольку реализовать не вышло , удалил.*"
   ]
  },
  {
   "cell_type": "code",
   "execution_count": 21,
   "id": "714a1e7b",
   "metadata": {},
   "outputs": [],
   "source": [
    "#from category_encoders import TargetEncoder\n",
    "#TARGET = 'reviewer_score'\n",
    "#encoder = ce.TargetEncoder(cols=['hotel_name']) # указываем столбец для кодирования\n",
    "#type_bin = encoder.fit_transform(data['hotel_name'], data[TARGET])\n",
    "#data = pd.concat([data, type_bin], axis=1)\n",
    "\n",
    "#data = data.drop(['hotel_name'],axis=1)"
   ]
  },
  {
   "cell_type": "markdown",
   "id": "f1a5be32",
   "metadata": {},
   "source": [
    "***2.4 Признак reviewer_nationality***"
   ]
  },
  {
   "cell_type": "code",
   "execution_count": 22,
   "id": "f8815b44",
   "metadata": {},
   "outputs": [
    {
     "data": {
      "text/plain": [
       "0               United Kingdom \n",
       "1                      Belgium \n",
       "2                         Other\n",
       "3     United States of America \n",
       "4               United Kingdom \n",
       "5                         Other\n",
       "6               United Kingdom \n",
       "7                  Netherlands \n",
       "8                      Ireland \n",
       "9                       Canada \n",
       "Name: reviewer_nationality, dtype: object"
      ]
     },
     "metadata": {},
     "output_type": "display_data"
    }
   ],
   "source": [
    "data['reviewer_nationality'].head()\n",
    "top_nationalities= data['reviewer_nationality'].value_counts().nlargest(20).index #список наиболее часто встречаемых\n",
    "data['reviewer_nationality'] = data['reviewer_nationality'].apply(lambda x: x if x in top_nationalities else 'Other')\n",
    "\n",
    "display(data['reviewer_nationality'].head(10))\n",
    "# кодируем признак национальности с помощью LabelEncoder\n",
    "data['reviewer_nationality'] = LabelEncoder().fit_transform(data['reviewer_nationality'])"
   ]
  },
  {
   "cell_type": "markdown",
   "id": "cf541494",
   "metadata": {},
   "source": [
    "***2.5 Признак negative_review***"
   ]
  },
  {
   "cell_type": "code",
   "execution_count": 23,
   "id": "fc0230f0",
   "metadata": {},
   "outputs": [
    {
     "data": {
      "text/plain": [
       "No Negative         127890\n",
       " Nothing             14295\n",
       " Nothing              4236\n",
       " nothing              2225\n",
       " N A                  1037\n",
       " None                  984\n",
       "                       849\n",
       " N a                   509\n",
       " Breakfast             407\n",
       " Small room            373\n",
       " Location              368\n",
       " Everything            326\n",
       " All good              318\n",
       " Nothing really        316\n",
       " none                  302\n",
       " nothing               283\n",
       " No complaints         274\n",
       " Price                 260\n",
       " Nothing really        254\n",
       " Nil                   247\n",
       "Name: negative_review, dtype: int64"
      ]
     },
     "execution_count": 23,
     "metadata": {},
     "output_type": "execute_result"
    }
   ],
   "source": [
    "data['negative_review'].head()\n",
    "data['negative_review'].value_counts().nlargest(20)\n"
   ]
  },
  {
   "cell_type": "markdown",
   "id": "bdab5230",
   "metadata": {},
   "source": [
    "*Видим , что в негативные отзывы попали \"No negative, Nothing, N A, All good, none, Nothing really\",  исправляем это. Приведем все к одному регистру и переберем.*"
   ]
  },
  {
   "cell_type": "code",
   "execution_count": 24,
   "id": "2802023c",
   "metadata": {},
   "outputs": [
    {
     "data": {
      "text/plain": [
       "no negative                127890\n",
       "nothing                     21185\n",
       "n a                          1815\n",
       "none                         1501\n",
       "                              849\n",
       "nothing really                656\n",
       "small room                    570\n",
       "all good                      545\n",
       "breakfast                     545\n",
       "no complaints                 523\n",
       "location                      502\n",
       "nothing at all                467\n",
       "everything                    420\n",
       "nothing to dislike            373\n",
       "price                         348\n",
       "nil                           332\n",
       "small rooms                   307\n",
       "everything was perfect        276\n",
       "na                            272\n",
       "can t think of anything       250\n",
       "Name: negative_review, dtype: int64"
      ]
     },
     "execution_count": 24,
     "metadata": {},
     "output_type": "execute_result"
    }
   ],
   "source": [
    "data['negative_review'] = data['negative_review'].apply(lambda x : x.lower().strip())\n",
    "data['negative_review'].value_counts().nlargest(20)"
   ]
  },
  {
   "cell_type": "code",
   "execution_count": 25,
   "id": "0a35bbaf",
   "metadata": {},
   "outputs": [
    {
     "data": {
      "text/plain": [
       "1    360652\n",
       "0    155086\n",
       "Name: new_negative_review, dtype: int64"
      ]
     },
     "execution_count": 25,
     "metadata": {},
     "output_type": "execute_result"
    }
   ],
   "source": [
    "false_neg = ['no negative','nothing','n a','none','','all good','nothing really','na','nothing to dislike']\n",
    "\n",
    "data['new_negative_review'] = data['negative_review'].apply(lambda x : 0 if x in false_neg else 1)#вручную кодируем признак\n",
    "\n",
    "data['new_negative_review'].value_counts()"
   ]
  },
  {
   "cell_type": "code",
   "execution_count": 26,
   "id": "38ccc9e9",
   "metadata": {},
   "outputs": [],
   "source": [
    "#убираем исходный\n",
    "data = data.drop(['negative_review'], axis=1)"
   ]
  },
  {
   "cell_type": "markdown",
   "id": "81483a44",
   "metadata": {},
   "source": [
    "***2.6 Признак positive_review***"
   ]
  },
  {
   "cell_type": "markdown",
   "id": "41b4a498",
   "metadata": {},
   "source": [
    "Схема действий аналогична "
   ]
  },
  {
   "cell_type": "code",
   "execution_count": 27,
   "id": "837c7b20",
   "metadata": {},
   "outputs": [
    {
     "data": {
      "text/plain": [
       "0     Hotel was great clean friendly staff free bre...\n",
       "1                                          No Positive\n",
       "2                           Nice welcoming and service\n",
       "3     Everything including the nice upgrade The Hot...\n",
       "4                      Lovely hotel v welcoming staff \n",
       "Name: positive_review, dtype: object"
      ]
     },
     "execution_count": 27,
     "metadata": {},
     "output_type": "execute_result"
    }
   ],
   "source": [
    "data['positive_review'].head()"
   ]
  },
  {
   "cell_type": "code",
   "execution_count": 28,
   "id": "234c535e",
   "metadata": {},
   "outputs": [
    {
     "data": {
      "text/plain": [
       "no positive                   35946\n",
       "location                      11945\n",
       "everything                     3314\n",
       "nothing                        1731\n",
       "great location                 1687\n",
       "the location                   1606\n",
       "good location                  1496\n",
       "breakfast                       795\n",
       "friendly staff                  733\n",
       "excellent location              639\n",
       "staff                           553\n",
       "location and staff              452\n",
       "location staff                  432\n",
       "location location location      345\n",
       "location was great              328\n",
       "good breakfast                  316\n",
       "everything was perfect          316\n",
       "location was good               312\n",
       "comfy bed                       303\n",
       "perfect location                287\n",
       "Name: positive_review, dtype: int64"
      ]
     },
     "execution_count": 28,
     "metadata": {},
     "output_type": "execute_result"
    }
   ],
   "source": [
    "data['positive_review'] = data['positive_review'].apply(lambda x : x.lower().strip())\n",
    "data['positive_review'].value_counts().nlargest(20)"
   ]
  },
  {
   "cell_type": "code",
   "execution_count": 29,
   "id": "969e7019",
   "metadata": {},
   "outputs": [
    {
     "data": {
      "text/plain": [
       "1    478061\n",
       "0     37677\n",
       "Name: new_positive_review, dtype: int64"
      ]
     },
     "execution_count": 29,
     "metadata": {},
     "output_type": "execute_result"
    }
   ],
   "source": [
    "false_pos = ['no positive','nothing']\n",
    "data['new_positive_review'] = data['positive_review'].apply(lambda x : 0 if x in false_pos else 1)\n",
    "data['new_positive_review'].value_counts()"
   ]
  },
  {
   "cell_type": "code",
   "execution_count": 30,
   "id": "3e5da989",
   "metadata": {},
   "outputs": [],
   "source": [
    "data = data.drop(['positive_review'], axis=1)"
   ]
  },
  {
   "cell_type": "markdown",
   "id": "9221ff04",
   "metadata": {},
   "source": [
    "***2.7 Признак tags***"
   ]
  },
  {
   "cell_type": "code",
   "execution_count": 31,
   "id": "58d45a38",
   "metadata": {},
   "outputs": [
    {
     "data": {
      "text/plain": [
       "0    [' Leisure trip ', ' Couple ', ' Double Room '...\n",
       "1    [' Leisure trip ', ' Group ', ' Triple Room ',...\n",
       "2    [' Business trip ', ' Solo traveler ', ' Twin ...\n",
       "3    [' Leisure trip ', ' Couple ', ' Ambassador Ju...\n",
       "4    [' Business trip ', ' Solo traveler ', ' Class...\n",
       "Name: tags, dtype: object"
      ]
     },
     "execution_count": 31,
     "metadata": {},
     "output_type": "execute_result"
    }
   ],
   "source": [
    "data['tags'].head()"
   ]
  },
  {
   "cell_type": "code",
   "execution_count": 32,
   "id": "e8e88347",
   "metadata": {},
   "outputs": [
    {
     "data": {
      "text/plain": [
       "0         [Leisure trip, Couple, Double Room, Stayed 2 n...\n",
       "1         [Leisure trip, Group, Triple Room, Stayed 1 ni...\n",
       "2         [Business trip, Solo traveler, Twin Room, Stay...\n",
       "3         [Leisure trip, Couple, Ambassador Junior Suite...\n",
       "4         [Business trip, Solo traveler, Classic Double ...\n",
       "                                ...                        \n",
       "515733    [Leisure trip, Group, Club Double or Twin Room...\n",
       "515734    [Leisure trip, Couple, Standard Double Room, S...\n",
       "515735    [Business trip, Solo traveler, Single Room, St...\n",
       "515736    [Leisure trip, Solo traveler, Deluxe Double Ro...\n",
       "515737    [Leisure trip, Couple, Bunk Bed Room, Stayed 4...\n",
       "Name: tags, Length: 515738, dtype: object"
      ]
     },
     "execution_count": 32,
     "metadata": {},
     "output_type": "execute_result"
    }
   ],
   "source": [
    "#Конвертируем теги в списки.\n",
    "def rev_func(num_tags):\n",
    "    num_tags = num_tags[2:-2]\n",
    "    res = num_tags.strip().split(' \\', \\' ')\n",
    "    return res\n",
    "data['tags'] = data['tags'].apply(rev_func)\n",
    "data['tags']"
   ]
  },
  {
   "cell_type": "markdown",
   "id": "c5f45e85",
   "metadata": {},
   "source": [
    "По тегам я бы разделил признаки на несколько категорий:\n",
    "1. кол-во ночей\n",
    "2. Тип номера \n",
    "3. Кол-во людей в заезде \n",
    "4. тип путешествия"
   ]
  },
  {
   "cell_type": "code",
   "execution_count": 33,
   "id": "2e542ca5",
   "metadata": {},
   "outputs": [],
   "source": [
    "#Создадим функцию по отбору кол-ва ночей, прописав пропуски 1 ночью\n",
    "def get_stay(x):\n",
    "    for tag in x:\n",
    "        words = tag.split()\n",
    "        if words[0] =='Stayed':\n",
    "            return int(words[1])\n",
    "    return np.NaN\n",
    "\n",
    "data['number of nights'] = data['tags'].apply(get_stay)\n",
    "data['number of nights'].fillna(1, inplace=True)"
   ]
  },
  {
   "cell_type": "code",
   "execution_count": 34,
   "id": "8044da12",
   "metadata": {},
   "outputs": [
    {
     "name": "stdout",
     "output_type": "stream",
     "text": [
      "Наиболее часто встрчающиеся тэги и кол-во:\n"
     ]
    },
    {
     "data": {
      "text/plain": [
       "{'Leisure trip': 417778,\n",
       " 'Couple': 252294,\n",
       " 'Double Room': 35207,\n",
       " 'Stayed 2 nights': 133937,\n",
       " 'Group': 65392,\n",
       " 'Stayed 1 night': 193645,\n",
       " 'Business trip': 82939,\n",
       " 'Solo traveler': 108545,\n",
       " 'Submitted from a mobile device': 307640,\n",
       " 'Standard Double or Twin Room': 17483,\n",
       " 'Stayed 3 nights': 95821,\n",
       " 'Double or Twin Room': 22393,\n",
       " 'Superior Double Room': 31393,\n",
       " 'Stayed 4 nights': 47817,\n",
       " 'Standard Double Room': 32248,\n",
       " 'Stayed 5 nights': 20845,\n",
       " 'Family with young children': 61015,\n",
       " 'Family with older children': 26349,\n",
       " 'Classic Double Room': 16989,\n",
       " 'Deluxe Double Room': 24823}"
      ]
     },
     "execution_count": 34,
     "metadata": {},
     "output_type": "execute_result"
    }
   ],
   "source": [
    "boundary = data.shape[0] * 0.03  # 3% граница отбора признаков (почему именно 3%, потому что посчитал , что так больше необходимым признаков попадут)\n",
    "c = Counter(tag for row in data['tags'] for tag in row)\n",
    "frequent_tags_count = dict(filter(lambda x: x[1] > boundary, c.items()))\n",
    "print('Наиболее часто встрчающиеся тэги и кол-во:')\n",
    "frequent_tags_count"
   ]
  },
  {
   "cell_type": "code",
   "execution_count": 35,
   "id": "b99a3800",
   "metadata": {},
   "outputs": [
    {
     "data": {
      "text/plain": [
       "['Leisure trip',\n",
       " 'Couple',\n",
       " 'Double Room',\n",
       " 'Group',\n",
       " 'Business trip',\n",
       " 'Solo traveler',\n",
       " 'Submitted from a mobile device',\n",
       " 'Standard Double or Twin Room',\n",
       " 'Double or Twin Room',\n",
       " 'Superior Double Room',\n",
       " 'Standard Double Room',\n",
       " 'Family with young children',\n",
       " 'Family with older children',\n",
       " 'Classic Double Room',\n",
       " 'Deluxe Double Room']"
      ]
     },
     "execution_count": 35,
     "metadata": {},
     "output_type": "execute_result"
    }
   ],
   "source": [
    "#фильтруем данные так , что б они соответсвовали двум условиям\n",
    "frequent_tags = list(dict(filter(lambda x: \n",
    "    x[1]>boundary and x[0].split()[0]!='Stayed', \n",
    "    frequent_tags_count.items())).keys())\n",
    "frequent_tags"
   ]
  },
  {
   "cell_type": "code",
   "execution_count": 36,
   "id": "fa5e5cdc",
   "metadata": {},
   "outputs": [],
   "source": [
    "for tag in frequent_tags:\n",
    "    data[tag] = data['tags'].apply(lambda x: 1 if tag in x else 0)"
   ]
  },
  {
   "cell_type": "code",
   "execution_count": 37,
   "id": "dd92e7ad",
   "metadata": {},
   "outputs": [],
   "source": [
    "data = data.drop(['tags'],axis=1)"
   ]
  },
  {
   "cell_type": "markdown",
   "id": "20fe274b",
   "metadata": {},
   "source": [
    "Проверяем оставшиеся не числовые признаки"
   ]
  },
  {
   "cell_type": "code",
   "execution_count": 38,
   "id": "1c5fd58a",
   "metadata": {},
   "outputs": [
    {
     "name": "stdout",
     "output_type": "stream",
     "text": [
      "['review_date' 'days_since_review' 'city' 'country']\n"
     ]
    }
   ],
   "source": [
    "data_non_numeric = data.select_dtypes(exclude=[np.number])\n",
    "non_numeric_cols = data_non_numeric.columns.values\n",
    "print(non_numeric_cols)"
   ]
  },
  {
   "cell_type": "markdown",
   "id": "8b2deec0",
   "metadata": {},
   "source": [
    "***2.8 Признак days_since_review***"
   ]
  },
  {
   "cell_type": "code",
   "execution_count": 39,
   "id": "01bab5da",
   "metadata": {},
   "outputs": [
    {
     "data": {
      "text/plain": [
       "0         13 days\n",
       "1         234 day\n",
       "2         616 day\n",
       "3         656 day\n",
       "4         444 day\n",
       "           ...   \n",
       "515733    106 day\n",
       "515734    171 day\n",
       "515735    543 day\n",
       "515736    74 days\n",
       "515737    363 day\n",
       "Name: days_since_review, Length: 515738, dtype: object"
      ]
     },
     "execution_count": 39,
     "metadata": {},
     "output_type": "execute_result"
    }
   ],
   "source": [
    "data['days_since_review']"
   ]
  },
  {
   "cell_type": "code",
   "execution_count": 40,
   "id": "31bfb3a7",
   "metadata": {},
   "outputs": [],
   "source": [
    "data['days_since_review'] = data['days_since_review'].apply(lambda x: x.split(' ')[0])\n",
    "data['days_since_review'] = data['days_since_review'].astype(int)"
   ]
  },
  {
   "cell_type": "code",
   "execution_count": 41,
   "id": "92f777da",
   "metadata": {
    "execution": {
     "iopub.execute_input": "2022-02-08T19:14:35.319524Z",
     "iopub.status.busy": "2022-02-08T19:14:35.318915Z",
     "iopub.status.idle": "2022-02-08T19:14:36.185657Z",
     "shell.execute_reply": "2022-02-08T19:14:36.186104Z",
     "shell.execute_reply.started": "2022-02-08T18:44:34.500478Z"
    },
    "papermill": {
     "duration": 0.902939,
     "end_time": "2022-02-08T19:14:36.186284",
     "exception": false,
     "start_time": "2022-02-08T19:14:35.283345",
     "status": "completed"
    },
    "tags": []
   },
   "outputs": [
    {
     "data": {
      "text/plain": [
       "additional_number_of_scoring                   480\n",
       "review_date                                    731\n",
       "average_score                                   34\n",
       "reviewer_nationality                            21\n",
       "review_total_negative_word_counts              402\n",
       "total_number_of_reviews                       1142\n",
       "review_total_positive_word_counts              365\n",
       "total_number_of_reviews_reviewer_has_given     198\n",
       "days_since_review                              731\n",
       "lat                                           1473\n",
       "lng                                           1473\n",
       "sample                                           2\n",
       "reviewer_score                                  38\n",
       "city                                             6\n",
       "country                                          6\n",
       "country_Italy                                    2\n",
       "country_Netherlands                              2\n",
       "country_Spain                                    2\n",
       "country_United Kingdom                           2\n",
       "country_France                                   2\n",
       "country_Austria                                  2\n",
       "city_Milan                                       2\n",
       "city_Amsterdam                                   2\n",
       "city_Barcelona                                   2\n",
       "city_London                                      2\n",
       "city_Paris                                       2\n",
       "city_Vienna                                      2\n",
       "month                                           12\n",
       "year                                             3\n",
       "new_negative_review                              2\n",
       "new_positive_review                              2\n",
       "number of nights                                31\n",
       "Leisure trip                                     2\n",
       "Couple                                           2\n",
       "Double Room                                      2\n",
       "Group                                            2\n",
       "Business trip                                    2\n",
       "Solo traveler                                    2\n",
       "Submitted from a mobile device                   2\n",
       "Standard Double or Twin Room                     2\n",
       "Double or Twin Room                              2\n",
       "Superior Double Room                             2\n",
       "Standard Double Room                             2\n",
       "Family with young children                       2\n",
       "Family with older children                       2\n",
       "Classic Double Room                              2\n",
       "Deluxe Double Room                               2\n",
       "dtype: int64"
      ]
     },
     "execution_count": 41,
     "metadata": {},
     "output_type": "execute_result"
    }
   ],
   "source": [
    "data.nunique(dropna=False)"
   ]
  },
  {
   "cell_type": "code",
   "execution_count": 42,
   "id": "8e845f5c",
   "metadata": {
    "execution": {
     "iopub.execute_input": "2022-02-08T19:14:37.365016Z",
     "iopub.status.busy": "2022-02-08T19:14:37.364338Z",
     "iopub.status.idle": "2022-02-08T19:14:37.367440Z",
     "shell.execute_reply": "2022-02-08T19:14:37.366949Z",
     "shell.execute_reply.started": "2022-02-08T18:44:36.454378Z"
    },
    "papermill": {
     "duration": 0.064293,
     "end_time": "2022-02-08T19:14:37.367575",
     "exception": false,
     "start_time": "2022-02-08T19:14:37.303282",
     "status": "completed"
    },
    "tags": []
   },
   "outputs": [],
   "source": [
    "# убираем признаки которые еще не успели обработать, \n",
    "# модель на признаках с dtypes \"object\" обучаться не будет, просто выберим их и удалим\n",
    "#object_columns = [s for s in data.columns if data[s].dtypes == 'object']\n",
    "#data.drop(object_columns, axis = 1, inplace=True)"
   ]
  },
  {
   "cell_type": "code",
   "execution_count": 43,
   "id": "e396cfc5",
   "metadata": {
    "execution": {
     "iopub.execute_input": "2022-02-08T19:14:37.429548Z",
     "iopub.status.busy": "2022-02-08T19:14:37.428899Z",
     "iopub.status.idle": "2022-02-08T19:14:37.446518Z",
     "shell.execute_reply": "2022-02-08T19:14:37.445920Z",
     "shell.execute_reply.started": "2022-02-08T18:44:36.492165Z"
    },
    "papermill": {
     "duration": 0.050346,
     "end_time": "2022-02-08T19:14:37.446656",
     "exception": false,
     "start_time": "2022-02-08T19:14:37.396310",
     "status": "completed"
    },
    "tags": []
   },
   "outputs": [
    {
     "name": "stdout",
     "output_type": "stream",
     "text": [
      "<class 'pandas.core.frame.DataFrame'>\n",
      "RangeIndex: 515738 entries, 0 to 515737\n",
      "Data columns (total 47 columns):\n",
      " #   Column                                      Non-Null Count   Dtype         \n",
      "---  ------                                      --------------   -----         \n",
      " 0   additional_number_of_scoring                515738 non-null  int64         \n",
      " 1   review_date                                 515738 non-null  datetime64[ns]\n",
      " 2   average_score                               515738 non-null  float64       \n",
      " 3   reviewer_nationality                        515738 non-null  int32         \n",
      " 4   review_total_negative_word_counts           515738 non-null  int64         \n",
      " 5   total_number_of_reviews                     515738 non-null  int64         \n",
      " 6   review_total_positive_word_counts           515738 non-null  int64         \n",
      " 7   total_number_of_reviews_reviewer_has_given  515738 non-null  int64         \n",
      " 8   days_since_review                           515738 non-null  int32         \n",
      " 9   lat                                         512470 non-null  float64       \n",
      " 10  lng                                         512470 non-null  float64       \n",
      " 11  sample                                      515738 non-null  int64         \n",
      " 12  reviewer_score                              515738 non-null  float64       \n",
      " 13  city                                        515738 non-null  object        \n",
      " 14  country                                     515738 non-null  object        \n",
      " 15  country_Italy                               515738 non-null  int64         \n",
      " 16  country_Netherlands                         515738 non-null  int64         \n",
      " 17  country_Spain                               515738 non-null  int64         \n",
      " 18  country_United Kingdom                      515738 non-null  int64         \n",
      " 19  country_France                              515738 non-null  int64         \n",
      " 20  country_Austria                             515738 non-null  int64         \n",
      " 21  city_Milan                                  515738 non-null  int64         \n",
      " 22  city_Amsterdam                              515738 non-null  int64         \n",
      " 23  city_Barcelona                              515738 non-null  int64         \n",
      " 24  city_London                                 515738 non-null  int64         \n",
      " 25  city_Paris                                  515738 non-null  int64         \n",
      " 26  city_Vienna                                 515738 non-null  int64         \n",
      " 27  month                                       515738 non-null  int32         \n",
      " 28  year                                        515738 non-null  int32         \n",
      " 29  new_negative_review                         515738 non-null  int64         \n",
      " 30  new_positive_review                         515738 non-null  int64         \n",
      " 31  number of nights                            515738 non-null  float64       \n",
      " 32  Leisure trip                                515738 non-null  int64         \n",
      " 33  Couple                                      515738 non-null  int64         \n",
      " 34  Double Room                                 515738 non-null  int64         \n",
      " 35  Group                                       515738 non-null  int64         \n",
      " 36  Business trip                               515738 non-null  int64         \n",
      " 37  Solo traveler                               515738 non-null  int64         \n",
      " 38  Submitted from a mobile device              515738 non-null  int64         \n",
      " 39  Standard Double or Twin Room                515738 non-null  int64         \n",
      " 40  Double or Twin Room                         515738 non-null  int64         \n",
      " 41  Superior Double Room                        515738 non-null  int64         \n",
      " 42  Standard Double Room                        515738 non-null  int64         \n",
      " 43  Family with young children                  515738 non-null  int64         \n",
      " 44  Family with older children                  515738 non-null  int64         \n",
      " 45  Classic Double Room                         515738 non-null  int64         \n",
      " 46  Deluxe Double Room                          515738 non-null  int64         \n",
      "dtypes: datetime64[ns](1), float64(5), int32(4), int64(35), object(2)\n",
      "memory usage: 177.1+ MB\n"
     ]
    }
   ],
   "source": [
    "data.info()"
   ]
  },
  {
   "cell_type": "markdown",
   "id": "3a44d30a",
   "metadata": {},
   "source": [
    "***2.9 Проверяем на пропуски***"
   ]
  },
  {
   "cell_type": "code",
   "execution_count": 44,
   "id": "e101534c",
   "metadata": {},
   "outputs": [
    {
     "data": {
      "text/plain": [
       "additional_number_of_scoring                     0\n",
       "review_date                                      0\n",
       "average_score                                    0\n",
       "reviewer_nationality                             0\n",
       "review_total_negative_word_counts                0\n",
       "total_number_of_reviews                          0\n",
       "review_total_positive_word_counts                0\n",
       "total_number_of_reviews_reviewer_has_given       0\n",
       "days_since_review                                0\n",
       "lat                                           3268\n",
       "lng                                           3268\n",
       "sample                                           0\n",
       "reviewer_score                                   0\n",
       "city                                             0\n",
       "country                                          0\n",
       "country_Italy                                    0\n",
       "country_Netherlands                              0\n",
       "country_Spain                                    0\n",
       "country_United Kingdom                           0\n",
       "country_France                                   0\n",
       "country_Austria                                  0\n",
       "city_Milan                                       0\n",
       "city_Amsterdam                                   0\n",
       "city_Barcelona                                   0\n",
       "city_London                                      0\n",
       "city_Paris                                       0\n",
       "city_Vienna                                      0\n",
       "month                                            0\n",
       "year                                             0\n",
       "new_negative_review                              0\n",
       "new_positive_review                              0\n",
       "number of nights                                 0\n",
       "Leisure trip                                     0\n",
       "Couple                                           0\n",
       "Double Room                                      0\n",
       "Group                                            0\n",
       "Business trip                                    0\n",
       "Solo traveler                                    0\n",
       "Submitted from a mobile device                   0\n",
       "Standard Double or Twin Room                     0\n",
       "Double or Twin Room                              0\n",
       "Superior Double Room                             0\n",
       "Standard Double Room                             0\n",
       "Family with young children                       0\n",
       "Family with older children                       0\n",
       "Classic Double Room                              0\n",
       "Deluxe Double Room                               0\n",
       "dtype: int64"
      ]
     },
     "execution_count": 44,
     "metadata": {},
     "output_type": "execute_result"
    }
   ],
   "source": [
    "data.isnull().sum()"
   ]
  },
  {
   "cell_type": "code",
   "execution_count": 45,
   "id": "6761e3ca",
   "metadata": {},
   "outputs": [],
   "source": [
    "data['lat'] = data['lat'].fillna(\n",
    "    data.groupby(['city'])['lat'].transform(lambda x: x.mode()[0])\n",
    ")\n",
    "data['lng'] = data['lng'].fillna(\n",
    "    data.groupby(['city'])['lng'].transform(lambda x: x.mode()[0])\n",
    ")"
   ]
  },
  {
   "cell_type": "markdown",
   "id": "8d8605f9",
   "metadata": {},
   "source": [
    "Удалеяем все оставшиеся не числовые признаки "
   ]
  },
  {
   "cell_type": "code",
   "execution_count": 46,
   "id": "d0f13a5a",
   "metadata": {},
   "outputs": [],
   "source": [
    "data = data.drop(['city'],axis=1)\n",
    "data = data.drop(['country'],axis=1)\n",
    "data = data.drop(['review_date'], axis=1)"
   ]
  },
  {
   "cell_type": "code",
   "execution_count": 47,
   "id": "29357409",
   "metadata": {},
   "outputs": [
    {
     "name": "stdout",
     "output_type": "stream",
     "text": [
      "<class 'pandas.core.frame.DataFrame'>\n",
      "RangeIndex: 515738 entries, 0 to 515737\n",
      "Data columns (total 44 columns):\n",
      " #   Column                                      Non-Null Count   Dtype  \n",
      "---  ------                                      --------------   -----  \n",
      " 0   additional_number_of_scoring                515738 non-null  int64  \n",
      " 1   average_score                               515738 non-null  float64\n",
      " 2   reviewer_nationality                        515738 non-null  int32  \n",
      " 3   review_total_negative_word_counts           515738 non-null  int64  \n",
      " 4   total_number_of_reviews                     515738 non-null  int64  \n",
      " 5   review_total_positive_word_counts           515738 non-null  int64  \n",
      " 6   total_number_of_reviews_reviewer_has_given  515738 non-null  int64  \n",
      " 7   days_since_review                           515738 non-null  int32  \n",
      " 8   lat                                         515738 non-null  float64\n",
      " 9   lng                                         515738 non-null  float64\n",
      " 10  sample                                      515738 non-null  int64  \n",
      " 11  reviewer_score                              515738 non-null  float64\n",
      " 12  country_Italy                               515738 non-null  int64  \n",
      " 13  country_Netherlands                         515738 non-null  int64  \n",
      " 14  country_Spain                               515738 non-null  int64  \n",
      " 15  country_United Kingdom                      515738 non-null  int64  \n",
      " 16  country_France                              515738 non-null  int64  \n",
      " 17  country_Austria                             515738 non-null  int64  \n",
      " 18  city_Milan                                  515738 non-null  int64  \n",
      " 19  city_Amsterdam                              515738 non-null  int64  \n",
      " 20  city_Barcelona                              515738 non-null  int64  \n",
      " 21  city_London                                 515738 non-null  int64  \n",
      " 22  city_Paris                                  515738 non-null  int64  \n",
      " 23  city_Vienna                                 515738 non-null  int64  \n",
      " 24  month                                       515738 non-null  int32  \n",
      " 25  year                                        515738 non-null  int32  \n",
      " 26  new_negative_review                         515738 non-null  int64  \n",
      " 27  new_positive_review                         515738 non-null  int64  \n",
      " 28  number of nights                            515738 non-null  float64\n",
      " 29  Leisure trip                                515738 non-null  int64  \n",
      " 30  Couple                                      515738 non-null  int64  \n",
      " 31  Double Room                                 515738 non-null  int64  \n",
      " 32  Group                                       515738 non-null  int64  \n",
      " 33  Business trip                               515738 non-null  int64  \n",
      " 34  Solo traveler                               515738 non-null  int64  \n",
      " 35  Submitted from a mobile device              515738 non-null  int64  \n",
      " 36  Standard Double or Twin Room                515738 non-null  int64  \n",
      " 37  Double or Twin Room                         515738 non-null  int64  \n",
      " 38  Superior Double Room                        515738 non-null  int64  \n",
      " 39  Standard Double Room                        515738 non-null  int64  \n",
      " 40  Family with young children                  515738 non-null  int64  \n",
      " 41  Family with older children                  515738 non-null  int64  \n",
      " 42  Classic Double Room                         515738 non-null  int64  \n",
      " 43  Deluxe Double Room                          515738 non-null  int64  \n",
      "dtypes: float64(5), int32(4), int64(35)\n",
      "memory usage: 165.3 MB\n"
     ]
    }
   ],
   "source": [
    "data.info()"
   ]
  },
  {
   "cell_type": "markdown",
   "id": "8996a940",
   "metadata": {},
   "source": [
    "Посчитал , что в данном случае нормализация данных не нужна. Поскольку отсутвует большая разница в цифрах"
   ]
  },
  {
   "cell_type": "markdown",
   "id": "a44347f5",
   "metadata": {},
   "source": [
    "***3. Мультиколиниарность ***"
   ]
  },
  {
   "cell_type": "code",
   "execution_count": 48,
   "id": "f538b2e3",
   "metadata": {},
   "outputs": [
    {
     "data": {
      "text/plain": [
       "Index(['additional_number_of_scoring', 'average_score', 'reviewer_nationality',\n",
       "       'review_total_negative_word_counts', 'total_number_of_reviews',\n",
       "       'review_total_positive_word_counts',\n",
       "       'total_number_of_reviews_reviewer_has_given', 'days_since_review',\n",
       "       'lat', 'lng', 'sample', 'reviewer_score', 'country_Italy',\n",
       "       'country_Netherlands', 'country_Spain', 'country_United Kingdom',\n",
       "       'country_France', 'country_Austria', 'city_Milan', 'city_Amsterdam',\n",
       "       'city_Barcelona', 'city_London', 'city_Paris', 'city_Vienna', 'month',\n",
       "       'year', 'new_negative_review', 'new_positive_review',\n",
       "       'number of nights', 'Leisure trip', 'Couple', 'Double Room', 'Group',\n",
       "       'Business trip', 'Solo traveler', 'Submitted from a mobile device',\n",
       "       'Standard Double or Twin Room', 'Double or Twin Room',\n",
       "       'Superior Double Room', 'Standard Double Room',\n",
       "       'Family with young children', 'Family with older children',\n",
       "       'Classic Double Room', 'Deluxe Double Room'],\n",
       "      dtype='object')"
      ]
     },
     "execution_count": 48,
     "metadata": {},
     "output_type": "execute_result"
    }
   ],
   "source": [
    "data.columns"
   ]
  },
  {
   "cell_type": "code",
   "execution_count": 49,
   "id": "84aa0ed3",
   "metadata": {},
   "outputs": [],
   "source": [
    "# непрерывные признаки\n",
    "num_cols = ['number of nights', \n",
    "       'Leisure trip', \n",
    "       'Couple', \n",
    "       'Double Room', \n",
    "       'Group',\n",
    "       'Business trip', \n",
    "       'Solo traveler', \n",
    "       'Submitted from a mobile device',\n",
    "       'Standard Double or Twin Room', \n",
    "       'Double or Twin Room',\n",
    "       'Superior Double Room', \n",
    "       'Standard Double Room',\n",
    "       'Family with young children', \n",
    "       'Family with older children',\n",
    "       'Classic Double Room', \n",
    "       'Deluxe Double Room',\n",
    "       'lat', \n",
    "       'lng', \n",
    "       'sample', \n",
    "       'reviewer_score',\n",
    "       'review_total_negative_word_counts', \n",
    "       'total_number_of_reviews',\n",
    "       'review_total_positive_word_counts', \n",
    "       'total_number_of_reviews_reviewer_has_given', \n",
    "       'days_since_review',\n",
    "       'average_score',\n",
    "       'additional_number_of_scoring']\n",
    "\n",
    "# категориальные признаки 17\n",
    "cat_cols = ['country_Italy',\n",
    "       'country_Netherlands', \n",
    "       'country_Spain', \n",
    "       'country_United Kingdom',\n",
    "       'country_France', \n",
    "       'country_Austria', \n",
    "       'city_Milan', \n",
    "       'city_Amsterdam',\n",
    "       'city_Barcelona', \n",
    "       'city_London', \n",
    "       'city_Paris', \n",
    "       'city_Vienna',\n",
    "       'month',\n",
    "       'year',\n",
    "       'reviewer_nationality',\n",
    "       'new_negative_review',\n",
    "       'new_positive_review']"
   ]
  },
  {
   "cell_type": "code",
   "execution_count": 50,
   "id": "420bd32a",
   "metadata": {},
   "outputs": [],
   "source": [
    "def show_corr_heatmap(columns_list, title, method):\n",
    "    \"\"\"Построения корреляционной диаграммы\"\"\"\n",
    "    fig_, ax_ = plt.subplots(figsize=(15, 12))\n",
    "    corr = data[columns_list].corr(method=method)\n",
    "    mask = np.triu(np.ones_like(corr, dtype=bool))\n",
    "    sns.heatmap(corr, \n",
    "                annot=True, \n",
    "                linewidths=0.1, \n",
    "                ax=ax_, \n",
    "                mask=mask, \n",
    "                cmap='viridis',\n",
    "                fmt='.1g')\n",
    "    ax_.set_title(title, fontsize=18)\n",
    "    plt.show()"
   ]
  },
  {
   "cell_type": "code",
   "execution_count": 51,
   "id": "346a3ee0",
   "metadata": {},
   "outputs": [
    {
     "data": {
      "image/png": "[encoded data removed]",
      "text/plain": [
       "<Figure size 1080x864 with 2 Axes>"
      ]
     },
     "metadata": {
      "needs_background": "light"
     },
     "output_type": "display_data"
    }
   ],
   "source": [
    "show_corr_heatmap(num_cols, 'КОРРЕЛЯЦИЯ НЕПРЕРЫВНЫХ ПРИЗНАКОВ', method='pearson');"
   ]
  },
  {
   "cell_type": "code",
   "execution_count": 52,
   "id": "9e7f0100",
   "metadata": {},
   "outputs": [
    {
     "data": {
      "image/png": "[encoded data removed]",
      "text/plain": [
       "<Figure size 1080x864 with 2 Axes>"
      ]
     },
     "metadata": {
      "needs_background": "light"
     },
     "output_type": "display_data"
    }
   ],
   "source": [
    "# строю диаграмму для категориальных признаков:\n",
    "show_corr_heatmap(\n",
    "    cat_cols, \n",
    "    'КОРРЕЛЯЦИЯ КАТЕГОРИАЛЬНЫХ ПРИЗНАКОВ', \n",
    "    method='spearman'\n",
    ")"
   ]
  },
  {
   "cell_type": "markdown",
   "id": "cd982f21",
   "metadata": {},
   "source": [
    "Удалим признаки, которые могут привести к мультиколлинеарности"
   ]
  },
  {
   "cell_type": "code",
   "execution_count": 53,
   "id": "149cf56c",
   "metadata": {},
   "outputs": [
    {
     "name": "stdout",
     "output_type": "stream",
     "text": [
      "Текущее получившееся количество признаков: 36\n",
      "(включая столбец \"Sample\" и целевой столбец)\n"
     ]
    }
   ],
   "source": [
    "data.drop(['total_number_of_reviews'], axis = 1, inplace=True)\n",
    "data.drop(['Business trip'], axis = 1, inplace=True)\n",
    "\n",
    "data.drop(['city_Milan'], axis = 1, inplace=True)\n",
    "data.drop(['city_Amsterdam'], axis = 1, inplace=True)\n",
    "data.drop(['city_Barcelona'], axis = 1, inplace=True)\n",
    "data.drop(['city_London'], axis = 1, inplace=True)\n",
    "data.drop(['city_Paris'], axis = 1, inplace=True)\n",
    "data.drop(['city_Vienna'], axis = 1, inplace=True)\n",
    "\n",
    "\n",
    "print(f'Текущее получившееся количество признаков: {len(data.columns)}')\n",
    "print('(включая столбец \"Sample\" и целевой столбец)')"
   ]
  },
  {
   "cell_type": "code",
   "execution_count": 54,
   "id": "69e46903",
   "metadata": {
    "execution": {
     "iopub.execute_input": "2022-02-08T19:14:37.505890Z",
     "iopub.status.busy": "2022-02-08T19:14:37.505020Z",
     "iopub.status.idle": "2022-02-08T19:14:37.548588Z",
     "shell.execute_reply": "2022-02-08T19:14:37.549135Z",
     "shell.execute_reply.started": "2022-02-08T18:44:36.519234Z"
    },
    "papermill": {
     "duration": 0.076208,
     "end_time": "2022-02-08T19:14:37.549330",
     "exception": false,
     "start_time": "2022-02-08T19:14:37.473122",
     "status": "completed"
    },
    "tags": []
   },
   "outputs": [],
   "source": [
    "# Теперь выделим тестовую часть\n",
    "train_data = data.query('sample == 1').drop(['sample'], axis=1)\n",
    "test_data = data.query('sample == 0').drop(['sample'], axis=1)\n",
    "\n",
    "y = train_data.reviewer_score.values            # наш таргет\n",
    "X = train_data.drop(['reviewer_score'], axis=1)"
   ]
  },
  {
   "cell_type": "code",
   "execution_count": 55,
   "id": "5045cc9a",
   "metadata": {
    "execution": {
     "iopub.execute_input": "2022-02-08T19:14:37.610632Z",
     "iopub.status.busy": "2022-02-08T19:14:37.607245Z",
     "iopub.status.idle": "2022-02-08T19:14:37.664876Z",
     "shell.execute_reply": "2022-02-08T19:14:37.664240Z",
     "shell.execute_reply.started": "2022-02-08T18:44:36.564379Z"
    },
    "papermill": {
     "duration": 0.089229,
     "end_time": "2022-02-08T19:14:37.665021",
     "exception": false,
     "start_time": "2022-02-08T19:14:37.575792",
     "status": "completed"
    },
    "tags": []
   },
   "outputs": [],
   "source": [
    "# Воспользуемся специальной функцие train_test_split для разбивки тестовых данных\n",
    "# выделим 20% данных на валидацию (параметр test_size)\n",
    "X_train, X_test, y_train, y_test = train_test_split(X, y, test_size=0.2, random_state=RANDOM_SEED)"
   ]
  },
  {
   "cell_type": "code",
   "execution_count": 56,
   "id": "3da6a0b4",
   "metadata": {
    "execution": {
     "iopub.execute_input": "2022-02-08T19:14:37.724787Z",
     "iopub.status.busy": "2022-02-08T19:14:37.724146Z",
     "iopub.status.idle": "2022-02-08T19:14:37.726536Z",
     "shell.execute_reply": "2022-02-08T19:14:37.726982Z",
     "shell.execute_reply.started": "2022-02-08T18:44:36.614037Z"
    },
    "papermill": {
     "duration": 0.035799,
     "end_time": "2022-02-08T19:14:37.727149",
     "exception": false,
     "start_time": "2022-02-08T19:14:37.691350",
     "status": "completed"
    },
    "tags": []
   },
   "outputs": [
    {
     "data": {
      "text/plain": [
       "((128935, 35), (386803, 35), (386803, 34), (309442, 34), (77361, 34))"
      ]
     },
     "execution_count": 56,
     "metadata": {},
     "output_type": "execute_result"
    }
   ],
   "source": [
    "# проверяем\n",
    "test_data.shape, train_data.shape, X.shape, X_train.shape, X_test.shape"
   ]
  },
  {
   "cell_type": "code",
   "execution_count": 57,
   "id": "b56e5c7f",
   "metadata": {
    "execution": {
     "iopub.execute_input": "2022-02-08T19:14:37.784550Z",
     "iopub.status.busy": "2022-02-08T19:14:37.783925Z",
     "iopub.status.idle": "2022-02-08T19:14:37.975610Z",
     "shell.execute_reply": "2022-02-08T19:14:37.975066Z",
     "shell.execute_reply.started": "2022-02-08T18:44:36.620894Z"
    },
    "papermill": {
     "duration": 0.221772,
     "end_time": "2022-02-08T19:14:37.975773",
     "exception": false,
     "start_time": "2022-02-08T19:14:37.754001",
     "status": "completed"
    },
    "tags": []
   },
   "outputs": [],
   "source": [
    "# Импортируем необходимые библиотеки:\n",
    "from sklearn.ensemble import RandomForestRegressor # инструмент для создания и обучения модели\n",
    "from sklearn import metrics # инструменты для оценки точности модели"
   ]
  },
  {
   "cell_type": "code",
   "execution_count": 58,
   "id": "cc67dfef",
   "metadata": {
    "execution": {
     "iopub.execute_input": "2022-02-08T19:14:38.033380Z",
     "iopub.status.busy": "2022-02-08T19:14:38.032424Z",
     "iopub.status.idle": "2022-02-08T19:14:38.036262Z",
     "shell.execute_reply": "2022-02-08T19:14:38.036790Z",
     "shell.execute_reply.started": "2022-02-08T18:44:36.631597Z"
    },
    "papermill": {
     "duration": 0.034367,
     "end_time": "2022-02-08T19:14:38.036955",
     "exception": false,
     "start_time": "2022-02-08T19:14:38.002588",
     "status": "completed"
    },
    "tags": []
   },
   "outputs": [],
   "source": [
    "# Создаём модель (НАСТРОЙКИ НЕ ТРОГАЕМ)\n",
    "model = RandomForestRegressor(n_estimators=100, verbose=1, n_jobs=-1, random_state=RANDOM_SEED)"
   ]
  },
  {
   "cell_type": "code",
   "execution_count": 59,
   "id": "38c6100a",
   "metadata": {
    "execution": {
     "iopub.execute_input": "2022-02-08T19:14:38.100230Z",
     "iopub.status.busy": "2022-02-08T19:14:38.098907Z",
     "iopub.status.idle": "2022-02-08T19:15:29.981505Z",
     "shell.execute_reply": "2022-02-08T19:15:29.982012Z",
     "shell.execute_reply.started": "2022-02-08T18:44:36.685783Z"
    },
    "papermill": {
     "duration": 51.917696,
     "end_time": "2022-02-08T19:15:29.982201",
     "exception": false,
     "start_time": "2022-02-08T19:14:38.064505",
     "status": "completed"
    },
    "tags": []
   },
   "outputs": [
    {
     "name": "stderr",
     "output_type": "stream",
     "text": [
      "[Parallel(n_jobs=-1)]: Using backend ThreadingBackend with 8 concurrent workers.\n",
      "[Parallel(n_jobs=-1)]: Done  34 tasks      | elapsed:   31.6s\n",
      "[Parallel(n_jobs=-1)]: Done 100 out of 100 | elapsed:  1.3min finished\n",
      "[Parallel(n_jobs=8)]: Using backend ThreadingBackend with 8 concurrent workers.\n",
      "[Parallel(n_jobs=8)]: Done  34 tasks      | elapsed:    0.4s\n",
      "[Parallel(n_jobs=8)]: Done 100 out of 100 | elapsed:    1.1s finished\n"
     ]
    }
   ],
   "source": [
    "# Обучаем модель на тестовом наборе данных\n",
    "model.fit(X_train, y_train)\n",
    "\n",
    "# Используем обученную модель для предсказания рейтинга ресторанов в тестовой выборке.\n",
    "# Предсказанные значения записываем в переменную y_pred\n",
    "y_pred = model.predict(X_test)"
   ]
  },
  {
   "cell_type": "code",
   "execution_count": 60,
   "id": "0bfbd9da",
   "metadata": {
    "execution": {
     "iopub.execute_input": "2022-02-08T19:15:30.047401Z",
     "iopub.status.busy": "2022-02-08T19:15:30.045169Z",
     "iopub.status.idle": "2022-02-08T19:15:30.054658Z",
     "shell.execute_reply": "2022-02-08T19:15:30.053627Z",
     "shell.execute_reply.started": "2022-02-08T18:45:41.407883Z"
    },
    "papermill": {
     "duration": 0.043029,
     "end_time": "2022-02-08T19:15:30.054903",
     "exception": false,
     "start_time": "2022-02-08T19:15:30.011874",
     "status": "completed"
    },
    "tags": []
   },
   "outputs": [
    {
     "name": "stdout",
     "output_type": "stream",
     "text": [
      "MAPE: 0.1333060436913412\n"
     ]
    }
   ],
   "source": [
    "# Сравниваем предсказанные значения (y_pred) с реальными (y_test), и смотрим насколько они в среднем отличаются\n",
    "# Метрика называется Mean Absolute Error (MAE) и показывает оказывает среднюю абсолютную процентную ошибку..\n",
    "print('MAPE:', metrics.mean_absolute_percentage_error(y_test, y_pred))"
   ]
  },
  {
   "cell_type": "code",
   "execution_count": 61,
   "id": "db88cbfc",
   "metadata": {
    "execution": {
     "iopub.execute_input": "2022-02-08T19:15:30.118909Z",
     "iopub.status.busy": "2022-02-08T19:15:30.118206Z",
     "iopub.status.idle": "2022-02-08T19:15:30.566895Z",
     "shell.execute_reply": "2022-02-08T19:15:30.567333Z",
     "shell.execute_reply.started": "2022-02-08T18:45:41.416087Z"
    },
    "papermill": {
     "duration": 0.483326,
     "end_time": "2022-02-08T19:15:30.567502",
     "exception": false,
     "start_time": "2022-02-08T19:15:30.084176",
     "status": "completed"
    },
    "tags": []
   },
   "outputs": [
    {
     "data": {
      "text/plain": [
       "<AxesSubplot:>"
      ]
     },
     "execution_count": 61,
     "metadata": {},
     "output_type": "execute_result"
    },
    {
     "data": {
      "image/png": "[encoded data removed]",
      "text/plain": [
       "<Figure size 720x720 with 1 Axes>"
      ]
     },
     "metadata": {
      "needs_background": "light"
     },
     "output_type": "display_data"
    }
   ],
   "source": [
    "# в RandomForestRegressor есть возможность вывести самые важные признаки для модели\n",
    "plt.rcParams['figure.figsize'] = (10,10)\n",
    "feat_importances = pd.Series(model.feature_importances_, index=X.columns)\n",
    "feat_importances.nlargest(30).plot(kind='barh')"
   ]
  },
  {
   "cell_type": "code",
   "execution_count": 62,
   "id": "bd9c9908",
   "metadata": {
    "execution": {
     "iopub.execute_input": "2022-02-08T19:15:30.625115Z",
     "iopub.status.busy": "2022-02-08T19:15:30.624515Z",
     "iopub.status.idle": "2022-02-08T19:15:30.639827Z",
     "shell.execute_reply": "2022-02-08T19:15:30.640317Z",
     "shell.execute_reply.started": "2022-02-08T18:45:41.866035Z"
    },
    "papermill": {
     "duration": 0.045936,
     "end_time": "2022-02-08T19:15:30.640491",
     "exception": false,
     "start_time": "2022-02-08T19:15:30.594555",
     "status": "completed"
    },
    "tags": []
   },
   "outputs": [
    {
     "data": {
      "text/html": [
       "<div>\n",
       "<style scoped>\n",
       "    .dataframe tbody tr th:only-of-type {\n",
       "        vertical-align: middle;\n",
       "    }\n",
       "\n",
       "    .dataframe tbody tr th {\n",
       "        vertical-align: top;\n",
       "    }\n",
       "\n",
       "    .dataframe thead th {\n",
       "        text-align: right;\n",
       "    }\n",
       "</style>\n",
       "<table border=\"1\" class=\"dataframe\">\n",
       "  <thead>\n",
       "    <tr style=\"text-align: right;\">\n",
       "      <th></th>\n",
       "      <th>additional_number_of_scoring</th>\n",
       "      <th>average_score</th>\n",
       "      <th>reviewer_nationality</th>\n",
       "      <th>review_total_negative_word_counts</th>\n",
       "      <th>review_total_positive_word_counts</th>\n",
       "      <th>total_number_of_reviews_reviewer_has_given</th>\n",
       "      <th>days_since_review</th>\n",
       "      <th>lat</th>\n",
       "      <th>lng</th>\n",
       "      <th>reviewer_score</th>\n",
       "      <th>...</th>\n",
       "      <th>Solo traveler</th>\n",
       "      <th>Submitted from a mobile device</th>\n",
       "      <th>Standard Double or Twin Room</th>\n",
       "      <th>Double or Twin Room</th>\n",
       "      <th>Superior Double Room</th>\n",
       "      <th>Standard Double Room</th>\n",
       "      <th>Family with young children</th>\n",
       "      <th>Family with older children</th>\n",
       "      <th>Classic Double Room</th>\n",
       "      <th>Deluxe Double Room</th>\n",
       "    </tr>\n",
       "  </thead>\n",
       "  <tbody>\n",
       "    <tr>\n",
       "      <th>107002</th>\n",
       "      <td>160</td>\n",
       "      <td>9.0</td>\n",
       "      <td>20</td>\n",
       "      <td>24</td>\n",
       "      <td>0</td>\n",
       "      <td>1</td>\n",
       "      <td>496</td>\n",
       "      <td>48.854787</td>\n",
       "      <td>2.308482</td>\n",
       "      <td>0.0</td>\n",
       "      <td>...</td>\n",
       "      <td>0</td>\n",
       "      <td>1</td>\n",
       "      <td>0</td>\n",
       "      <td>0</td>\n",
       "      <td>0</td>\n",
       "      <td>0</td>\n",
       "      <td>0</td>\n",
       "      <td>0</td>\n",
       "      <td>0</td>\n",
       "      <td>0</td>\n",
       "    </tr>\n",
       "    <tr>\n",
       "      <th>1981</th>\n",
       "      <td>2623</td>\n",
       "      <td>8.7</td>\n",
       "      <td>18</td>\n",
       "      <td>0</td>\n",
       "      <td>36</td>\n",
       "      <td>1</td>\n",
       "      <td>534</td>\n",
       "      <td>51.500961</td>\n",
       "      <td>-0.116591</td>\n",
       "      <td>0.0</td>\n",
       "      <td>...</td>\n",
       "      <td>0</td>\n",
       "      <td>1</td>\n",
       "      <td>0</td>\n",
       "      <td>0</td>\n",
       "      <td>0</td>\n",
       "      <td>0</td>\n",
       "      <td>0</td>\n",
       "      <td>0</td>\n",
       "      <td>0</td>\n",
       "      <td>0</td>\n",
       "    </tr>\n",
       "    <tr>\n",
       "      <th>19540</th>\n",
       "      <td>950</td>\n",
       "      <td>8.6</td>\n",
       "      <td>18</td>\n",
       "      <td>17</td>\n",
       "      <td>0</td>\n",
       "      <td>4</td>\n",
       "      <td>515</td>\n",
       "      <td>51.506472</td>\n",
       "      <td>-0.071689</td>\n",
       "      <td>0.0</td>\n",
       "      <td>...</td>\n",
       "      <td>0</td>\n",
       "      <td>0</td>\n",
       "      <td>0</td>\n",
       "      <td>0</td>\n",
       "      <td>0</td>\n",
       "      <td>0</td>\n",
       "      <td>0</td>\n",
       "      <td>0</td>\n",
       "      <td>0</td>\n",
       "      <td>0</td>\n",
       "    </tr>\n",
       "    <tr>\n",
       "      <th>15091</th>\n",
       "      <td>76</td>\n",
       "      <td>8.2</td>\n",
       "      <td>19</td>\n",
       "      <td>17</td>\n",
       "      <td>15</td>\n",
       "      <td>1</td>\n",
       "      <td>420</td>\n",
       "      <td>48.865473</td>\n",
       "      <td>2.329293</td>\n",
       "      <td>0.0</td>\n",
       "      <td>...</td>\n",
       "      <td>0</td>\n",
       "      <td>0</td>\n",
       "      <td>0</td>\n",
       "      <td>0</td>\n",
       "      <td>0</td>\n",
       "      <td>0</td>\n",
       "      <td>0</td>\n",
       "      <td>0</td>\n",
       "      <td>0</td>\n",
       "      <td>0</td>\n",
       "    </tr>\n",
       "    <tr>\n",
       "      <th>74941</th>\n",
       "      <td>908</td>\n",
       "      <td>8.5</td>\n",
       "      <td>20</td>\n",
       "      <td>9</td>\n",
       "      <td>10</td>\n",
       "      <td>7</td>\n",
       "      <td>185</td>\n",
       "      <td>51.514400</td>\n",
       "      <td>-0.156551</td>\n",
       "      <td>0.0</td>\n",
       "      <td>...</td>\n",
       "      <td>0</td>\n",
       "      <td>0</td>\n",
       "      <td>0</td>\n",
       "      <td>0</td>\n",
       "      <td>0</td>\n",
       "      <td>0</td>\n",
       "      <td>1</td>\n",
       "      <td>0</td>\n",
       "      <td>0</td>\n",
       "      <td>0</td>\n",
       "    </tr>\n",
       "    <tr>\n",
       "      <th>108655</th>\n",
       "      <td>482</td>\n",
       "      <td>9.0</td>\n",
       "      <td>20</td>\n",
       "      <td>7</td>\n",
       "      <td>30</td>\n",
       "      <td>16</td>\n",
       "      <td>17</td>\n",
       "      <td>52.377743</td>\n",
       "      <td>4.897057</td>\n",
       "      <td>0.0</td>\n",
       "      <td>...</td>\n",
       "      <td>0</td>\n",
       "      <td>1</td>\n",
       "      <td>0</td>\n",
       "      <td>0</td>\n",
       "      <td>0</td>\n",
       "      <td>0</td>\n",
       "      <td>0</td>\n",
       "      <td>0</td>\n",
       "      <td>0</td>\n",
       "      <td>0</td>\n",
       "    </tr>\n",
       "    <tr>\n",
       "      <th>13936</th>\n",
       "      <td>21</td>\n",
       "      <td>9.8</td>\n",
       "      <td>13</td>\n",
       "      <td>77</td>\n",
       "      <td>14</td>\n",
       "      <td>3</td>\n",
       "      <td>170</td>\n",
       "      <td>48.867947</td>\n",
       "      <td>2.328959</td>\n",
       "      <td>0.0</td>\n",
       "      <td>...</td>\n",
       "      <td>0</td>\n",
       "      <td>1</td>\n",
       "      <td>0</td>\n",
       "      <td>0</td>\n",
       "      <td>0</td>\n",
       "      <td>0</td>\n",
       "      <td>0</td>\n",
       "      <td>0</td>\n",
       "      <td>0</td>\n",
       "      <td>0</td>\n",
       "    </tr>\n",
       "    <tr>\n",
       "      <th>19819</th>\n",
       "      <td>269</td>\n",
       "      <td>8.0</td>\n",
       "      <td>0</td>\n",
       "      <td>8</td>\n",
       "      <td>8</td>\n",
       "      <td>5</td>\n",
       "      <td>309</td>\n",
       "      <td>41.387348</td>\n",
       "      <td>2.160399</td>\n",
       "      <td>0.0</td>\n",
       "      <td>...</td>\n",
       "      <td>0</td>\n",
       "      <td>1</td>\n",
       "      <td>0</td>\n",
       "      <td>1</td>\n",
       "      <td>0</td>\n",
       "      <td>0</td>\n",
       "      <td>0</td>\n",
       "      <td>0</td>\n",
       "      <td>0</td>\n",
       "      <td>0</td>\n",
       "    </tr>\n",
       "    <tr>\n",
       "      <th>127773</th>\n",
       "      <td>321</td>\n",
       "      <td>8.6</td>\n",
       "      <td>7</td>\n",
       "      <td>8</td>\n",
       "      <td>10</td>\n",
       "      <td>13</td>\n",
       "      <td>376</td>\n",
       "      <td>48.231911</td>\n",
       "      <td>16.412949</td>\n",
       "      <td>0.0</td>\n",
       "      <td>...</td>\n",
       "      <td>0</td>\n",
       "      <td>1</td>\n",
       "      <td>0</td>\n",
       "      <td>0</td>\n",
       "      <td>0</td>\n",
       "      <td>0</td>\n",
       "      <td>1</td>\n",
       "      <td>0</td>\n",
       "      <td>0</td>\n",
       "      <td>1</td>\n",
       "    </tr>\n",
       "    <tr>\n",
       "      <th>110329</th>\n",
       "      <td>84</td>\n",
       "      <td>8.7</td>\n",
       "      <td>9</td>\n",
       "      <td>36</td>\n",
       "      <td>26</td>\n",
       "      <td>35</td>\n",
       "      <td>267</td>\n",
       "      <td>48.221770</td>\n",
       "      <td>16.357874</td>\n",
       "      <td>0.0</td>\n",
       "      <td>...</td>\n",
       "      <td>1</td>\n",
       "      <td>0</td>\n",
       "      <td>0</td>\n",
       "      <td>0</td>\n",
       "      <td>0</td>\n",
       "      <td>0</td>\n",
       "      <td>0</td>\n",
       "      <td>0</td>\n",
       "      <td>0</td>\n",
       "      <td>0</td>\n",
       "    </tr>\n",
       "  </tbody>\n",
       "</table>\n",
       "<p>10 rows × 35 columns</p>\n",
       "</div>"
      ],
      "text/plain": [
       "        additional_number_of_scoring  average_score  reviewer_nationality  \\\n",
       "107002                           160            9.0                    20   \n",
       "1981                            2623            8.7                    18   \n",
       "19540                            950            8.6                    18   \n",
       "15091                             76            8.2                    19   \n",
       "74941                            908            8.5                    20   \n",
       "108655                           482            9.0                    20   \n",
       "13936                             21            9.8                    13   \n",
       "19819                            269            8.0                     0   \n",
       "127773                           321            8.6                     7   \n",
       "110329                            84            8.7                     9   \n",
       "\n",
       "        review_total_negative_word_counts  review_total_positive_word_counts  \\\n",
       "107002                                 24                                  0   \n",
       "1981                                    0                                 36   \n",
       "19540                                  17                                  0   \n",
       "15091                                  17                                 15   \n",
       "74941                                   9                                 10   \n",
       "108655                                  7                                 30   \n",
       "13936                                  77                                 14   \n",
       "19819                                   8                                  8   \n",
       "127773                                  8                                 10   \n",
       "110329                                 36                                 26   \n",
       "\n",
       "        total_number_of_reviews_reviewer_has_given  days_since_review  \\\n",
       "107002                                           1                496   \n",
       "1981                                             1                534   \n",
       "19540                                            4                515   \n",
       "15091                                            1                420   \n",
       "74941                                            7                185   \n",
       "108655                                          16                 17   \n",
       "13936                                            3                170   \n",
       "19819                                            5                309   \n",
       "127773                                          13                376   \n",
       "110329                                          35                267   \n",
       "\n",
       "              lat        lng  reviewer_score  ...  Solo traveler  \\\n",
       "107002  48.854787   2.308482             0.0  ...              0   \n",
       "1981    51.500961  -0.116591             0.0  ...              0   \n",
       "19540   51.506472  -0.071689             0.0  ...              0   \n",
       "15091   48.865473   2.329293             0.0  ...              0   \n",
       "74941   51.514400  -0.156551             0.0  ...              0   \n",
       "108655  52.377743   4.897057             0.0  ...              0   \n",
       "13936   48.867947   2.328959             0.0  ...              0   \n",
       "19819   41.387348   2.160399             0.0  ...              0   \n",
       "127773  48.231911  16.412949             0.0  ...              0   \n",
       "110329  48.221770  16.357874             0.0  ...              1   \n",
       "\n",
       "        Submitted from a mobile device  Standard Double or Twin Room  \\\n",
       "107002                               1                             0   \n",
       "1981                                 1                             0   \n",
       "19540                                0                             0   \n",
       "15091                                0                             0   \n",
       "74941                                0                             0   \n",
       "108655                               1                             0   \n",
       "13936                                1                             0   \n",
       "19819                                1                             0   \n",
       "127773                               1                             0   \n",
       "110329                               0                             0   \n",
       "\n",
       "        Double or Twin Room  Superior Double Room  Standard Double Room  \\\n",
       "107002                    0                     0                     0   \n",
       "1981                      0                     0                     0   \n",
       "19540                     0                     0                     0   \n",
       "15091                     0                     0                     0   \n",
       "74941                     0                     0                     0   \n",
       "108655                    0                     0                     0   \n",
       "13936                     0                     0                     0   \n",
       "19819                     1                     0                     0   \n",
       "127773                    0                     0                     0   \n",
       "110329                    0                     0                     0   \n",
       "\n",
       "        Family with young children  Family with older children  \\\n",
       "107002                           0                           0   \n",
       "1981                             0                           0   \n",
       "19540                            0                           0   \n",
       "15091                            0                           0   \n",
       "74941                            1                           0   \n",
       "108655                           0                           0   \n",
       "13936                            0                           0   \n",
       "19819                            0                           0   \n",
       "127773                           1                           0   \n",
       "110329                           0                           0   \n",
       "\n",
       "        Classic Double Room  Deluxe Double Room  \n",
       "107002                    0                   0  \n",
       "1981                      0                   0  \n",
       "19540                     0                   0  \n",
       "15091                     0                   0  \n",
       "74941                     0                   0  \n",
       "108655                    0                   0  \n",
       "13936                     0                   0  \n",
       "19819                     0                   0  \n",
       "127773                    0                   1  \n",
       "110329                    0                   0  \n",
       "\n",
       "[10 rows x 35 columns]"
      ]
     },
     "execution_count": 62,
     "metadata": {},
     "output_type": "execute_result"
    }
   ],
   "source": [
    "test_data.sample(10)"
   ]
  },
  {
   "cell_type": "code",
   "execution_count": 63,
   "id": "a9a6da4d",
   "metadata": {
    "execution": {
     "iopub.execute_input": "2022-02-08T19:15:30.705058Z",
     "iopub.status.busy": "2022-02-08T19:15:30.704107Z",
     "iopub.status.idle": "2022-02-08T19:15:30.711398Z",
     "shell.execute_reply": "2022-02-08T19:15:30.711831Z",
     "shell.execute_reply.started": "2022-02-08T18:45:41.885567Z"
    },
    "papermill": {
     "duration": 0.041402,
     "end_time": "2022-02-08T19:15:30.712005",
     "exception": false,
     "start_time": "2022-02-08T19:15:30.670603",
     "status": "completed"
    },
    "tags": []
   },
   "outputs": [],
   "source": [
    "test_data = test_data.drop(['reviewer_score'], axis=1)"
   ]
  },
  {
   "cell_type": "code",
   "execution_count": 64,
   "id": "82996041",
   "metadata": {
    "execution": {
     "iopub.execute_input": "2022-02-08T19:15:30.776119Z",
     "iopub.status.busy": "2022-02-08T19:15:30.775182Z",
     "iopub.status.idle": "2022-02-08T19:15:30.784841Z",
     "shell.execute_reply": "2022-02-08T19:15:30.785251Z",
     "shell.execute_reply.started": "2022-02-08T18:45:41.893309Z"
    },
    "papermill": {
     "duration": 0.043997,
     "end_time": "2022-02-08T19:15:30.785439",
     "exception": false,
     "start_time": "2022-02-08T19:15:30.741442",
     "status": "completed"
    },
    "tags": []
   },
   "outputs": [
    {
     "data": {
      "text/html": [
       "<div>\n",
       "<style scoped>\n",
       "    .dataframe tbody tr th:only-of-type {\n",
       "        vertical-align: middle;\n",
       "    }\n",
       "\n",
       "    .dataframe tbody tr th {\n",
       "        vertical-align: top;\n",
       "    }\n",
       "\n",
       "    .dataframe thead th {\n",
       "        text-align: right;\n",
       "    }\n",
       "</style>\n",
       "<table border=\"1\" class=\"dataframe\">\n",
       "  <thead>\n",
       "    <tr style=\"text-align: right;\">\n",
       "      <th></th>\n",
       "      <th>reviewer_score</th>\n",
       "      <th>id</th>\n",
       "    </tr>\n",
       "  </thead>\n",
       "  <tbody>\n",
       "    <tr>\n",
       "      <th>0</th>\n",
       "      <td>1</td>\n",
       "      <td>488440</td>\n",
       "    </tr>\n",
       "    <tr>\n",
       "      <th>1</th>\n",
       "      <td>10</td>\n",
       "      <td>274649</td>\n",
       "    </tr>\n",
       "    <tr>\n",
       "      <th>2</th>\n",
       "      <td>3</td>\n",
       "      <td>374688</td>\n",
       "    </tr>\n",
       "    <tr>\n",
       "      <th>3</th>\n",
       "      <td>10</td>\n",
       "      <td>404352</td>\n",
       "    </tr>\n",
       "    <tr>\n",
       "      <th>4</th>\n",
       "      <td>9</td>\n",
       "      <td>451596</td>\n",
       "    </tr>\n",
       "    <tr>\n",
       "      <th>...</th>\n",
       "      <td>...</td>\n",
       "      <td>...</td>\n",
       "    </tr>\n",
       "    <tr>\n",
       "      <th>128930</th>\n",
       "      <td>7</td>\n",
       "      <td>495812</td>\n",
       "    </tr>\n",
       "    <tr>\n",
       "      <th>128931</th>\n",
       "      <td>1</td>\n",
       "      <td>315577</td>\n",
       "    </tr>\n",
       "    <tr>\n",
       "      <th>128932</th>\n",
       "      <td>3</td>\n",
       "      <td>511968</td>\n",
       "    </tr>\n",
       "    <tr>\n",
       "      <th>128933</th>\n",
       "      <td>6</td>\n",
       "      <td>303386</td>\n",
       "    </tr>\n",
       "    <tr>\n",
       "      <th>128934</th>\n",
       "      <td>5</td>\n",
       "      <td>103157</td>\n",
       "    </tr>\n",
       "  </tbody>\n",
       "</table>\n",
       "<p>128935 rows × 2 columns</p>\n",
       "</div>"
      ],
      "text/plain": [
       "        reviewer_score      id\n",
       "0                    1  488440\n",
       "1                   10  274649\n",
       "2                    3  374688\n",
       "3                   10  404352\n",
       "4                    9  451596\n",
       "...                ...     ...\n",
       "128930               7  495812\n",
       "128931               1  315577\n",
       "128932               3  511968\n",
       "128933               6  303386\n",
       "128934               5  103157\n",
       "\n",
       "[128935 rows x 2 columns]"
      ]
     },
     "execution_count": 64,
     "metadata": {},
     "output_type": "execute_result"
    }
   ],
   "source": [
    "sample_submission"
   ]
  },
  {
   "cell_type": "code",
   "execution_count": 65,
   "id": "4365f12b",
   "metadata": {},
   "outputs": [
    {
     "name": "stderr",
     "output_type": "stream",
     "text": [
      "[Parallel(n_jobs=8)]: Using backend ThreadingBackend with 8 concurrent workers.\n",
      "[Parallel(n_jobs=8)]: Done  34 tasks      | elapsed:    0.7s\n",
      "[Parallel(n_jobs=8)]: Done 100 out of 100 | elapsed:    2.0s finished\n"
     ]
    }
   ],
   "source": [
    "predict_submission = model.predict(test_data)"
   ]
  },
  {
   "cell_type": "code",
   "execution_count": 66,
   "id": "f8143893",
   "metadata": {
    "execution": {
     "iopub.execute_input": "2022-02-08T19:15:34.049725Z",
     "iopub.status.busy": "2022-02-08T19:15:34.048890Z",
     "iopub.status.idle": "2022-02-08T19:15:34.052717Z",
     "shell.execute_reply": "2022-02-08T19:15:34.053456Z",
     "shell.execute_reply.started": "2022-02-08T18:45:44.231424Z"
    },
    "papermill": {
     "duration": 0.043612,
     "end_time": "2022-02-08T19:15:34.053708",
     "exception": false,
     "start_time": "2022-02-08T19:15:34.010096",
     "status": "completed"
    },
    "tags": []
   },
   "outputs": [
    {
     "data": {
      "text/plain": [
       "array([8.689, 6.997, 7.994, ..., 7.954, 9.357, 7.173])"
      ]
     },
     "execution_count": 66,
     "metadata": {},
     "output_type": "execute_result"
    }
   ],
   "source": [
    "predict_submission"
   ]
  },
  {
   "cell_type": "code",
   "execution_count": 67,
   "id": "acc71a3c",
   "metadata": {
    "execution": {
     "iopub.execute_input": "2022-02-08T19:15:34.130523Z",
     "iopub.status.busy": "2022-02-08T19:15:34.129920Z",
     "iopub.status.idle": "2022-02-08T19:15:34.132622Z",
     "shell.execute_reply": "2022-02-08T19:15:34.133260Z",
     "shell.execute_reply.started": "2022-02-08T18:45:44.239621Z"
    },
    "papermill": {
     "duration": 0.044364,
     "end_time": "2022-02-08T19:15:34.133444",
     "exception": false,
     "start_time": "2022-02-08T19:15:34.089080",
     "status": "completed"
    },
    "tags": []
   },
   "outputs": [
    {
     "data": {
      "text/plain": [
       "['reviewer_score', 'id']"
      ]
     },
     "execution_count": 67,
     "metadata": {},
     "output_type": "execute_result"
    }
   ],
   "source": [
    "list(sample_submission)"
   ]
  },
  {
   "cell_type": "code",
   "execution_count": 68,
   "id": "9c5daa79",
   "metadata": {
    "execution": {
     "iopub.execute_input": "2022-02-08T19:15:34.202732Z",
     "iopub.status.busy": "2022-02-08T19:15:34.202121Z",
     "iopub.status.idle": "2022-02-08T19:15:34.484062Z",
     "shell.execute_reply": "2022-02-08T19:15:34.484469Z",
     "shell.execute_reply.started": "2022-02-08T18:45:44.250765Z"
    },
    "papermill": {
     "duration": 0.318018,
     "end_time": "2022-02-08T19:15:34.484637",
     "exception": false,
     "start_time": "2022-02-08T19:15:34.166619",
     "status": "completed"
    },
    "tags": []
   },
   "outputs": [
    {
     "data": {
      "text/html": [
       "<div>\n",
       "<style scoped>\n",
       "    .dataframe tbody tr th:only-of-type {\n",
       "        vertical-align: middle;\n",
       "    }\n",
       "\n",
       "    .dataframe tbody tr th {\n",
       "        vertical-align: top;\n",
       "    }\n",
       "\n",
       "    .dataframe thead th {\n",
       "        text-align: right;\n",
       "    }\n",
       "</style>\n",
       "<table border=\"1\" class=\"dataframe\">\n",
       "  <thead>\n",
       "    <tr style=\"text-align: right;\">\n",
       "      <th></th>\n",
       "      <th>reviewer_score</th>\n",
       "      <th>id</th>\n",
       "    </tr>\n",
       "  </thead>\n",
       "  <tbody>\n",
       "    <tr>\n",
       "      <th>0</th>\n",
       "      <td>8.689</td>\n",
       "      <td>488440</td>\n",
       "    </tr>\n",
       "    <tr>\n",
       "      <th>1</th>\n",
       "      <td>6.997</td>\n",
       "      <td>274649</td>\n",
       "    </tr>\n",
       "    <tr>\n",
       "      <th>2</th>\n",
       "      <td>7.994</td>\n",
       "      <td>374688</td>\n",
       "    </tr>\n",
       "    <tr>\n",
       "      <th>3</th>\n",
       "      <td>9.621</td>\n",
       "      <td>404352</td>\n",
       "    </tr>\n",
       "    <tr>\n",
       "      <th>4</th>\n",
       "      <td>9.488</td>\n",
       "      <td>451596</td>\n",
       "    </tr>\n",
       "    <tr>\n",
       "      <th>...</th>\n",
       "      <td>...</td>\n",
       "      <td>...</td>\n",
       "    </tr>\n",
       "    <tr>\n",
       "      <th>128930</th>\n",
       "      <td>8.520</td>\n",
       "      <td>495812</td>\n",
       "    </tr>\n",
       "    <tr>\n",
       "      <th>128931</th>\n",
       "      <td>7.948</td>\n",
       "      <td>315577</td>\n",
       "    </tr>\n",
       "    <tr>\n",
       "      <th>128932</th>\n",
       "      <td>7.954</td>\n",
       "      <td>511968</td>\n",
       "    </tr>\n",
       "    <tr>\n",
       "      <th>128933</th>\n",
       "      <td>9.357</td>\n",
       "      <td>303386</td>\n",
       "    </tr>\n",
       "    <tr>\n",
       "      <th>128934</th>\n",
       "      <td>7.173</td>\n",
       "      <td>103157</td>\n",
       "    </tr>\n",
       "  </tbody>\n",
       "</table>\n",
       "<p>128935 rows × 2 columns</p>\n",
       "</div>"
      ],
      "text/plain": [
       "        reviewer_score      id\n",
       "0                8.689  488440\n",
       "1                6.997  274649\n",
       "2                7.994  374688\n",
       "3                9.621  404352\n",
       "4                9.488  451596\n",
       "...                ...     ...\n",
       "128930           8.520  495812\n",
       "128931           7.948  315577\n",
       "128932           7.954  511968\n",
       "128933           9.357  303386\n",
       "128934           7.173  103157\n",
       "\n",
       "[128935 rows x 2 columns]"
      ]
     },
     "execution_count": 68,
     "metadata": {},
     "output_type": "execute_result"
    }
   ],
   "source": [
    "sample_submission['reviewer_score'] = predict_submission\n",
    "sample_submission.to_csv('submission.csv', index=False)\n",
    "sample_submission"
   ]
  }
 ],
 "metadata": {
  "kernelspec": {
   "display_name": "Python 3.9.10 64-bit",
   "language": "python",
   "name": "python3"
  },
  "language_info": {
   "codemirror_mode": {
    "name": "ipython",
    "version": 3
   },
   "file_extension": ".py",
   "mimetype": "text/x-python",
   "name": "python",
   "nbconvert_exporter": "python",
   "pygments_lexer": "ipython3",
   "version": "3.9.10"
  },
  "papermill": {
   "default_parameters": {},
   "duration": 82.712304,
   "end_time": "2022-02-08T19:15:35.720354",
   "environment_variables": {},
   "exception": null,
   "input_path": "__notebook__.ipynb",
   "output_path": "__notebook__.ipynb",
   "parameters": {},
   "start_time": "2022-02-08T19:14:13.008050",
   "version": "2.3.3"
  },
  "vscode": {
   "interpreter": {
    "hash": "fbb2f851e07da52b440a025ea77d38a25c919e209618a6931d198fc5198bde37"
   }
  }
 },
 "nbformat": 4,
 "nbformat_minor": 5
}
